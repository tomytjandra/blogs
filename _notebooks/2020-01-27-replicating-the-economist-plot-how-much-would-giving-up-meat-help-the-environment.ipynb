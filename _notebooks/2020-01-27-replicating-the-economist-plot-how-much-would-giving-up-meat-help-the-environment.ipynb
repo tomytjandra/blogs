{
 "cells": [
  {
   "cell_type": "markdown",
   "metadata": {},
   "source": [
    "# \"Replicating The Economist Plot: How much would giving up meat help the environment?\"\n",
    "> \"Workflow on how to replicate The Economist Plot from the daily chart entitled 'How much would giving up meat help the environment?' using ggplot2 package in R. The plot gives us an insight that going vegan for two-thirds of meals could cut food-related carbon emissions by 60%. We are going to break down the plot into two separate subplots and will be combined as one using grid package.\"\n",
    "\n",
    "- toc: true\n",
    "- badges: true\n",
    "- comments: true\n",
    "- author: Tomy Tjandra\n",
    "- categories: [r, data-visualization, ggplot2]\n",
    "- image: images/replicating-the-economist-plot-how-much-would-giving-up-meat-help-the-environment.png"
   ]
  },
  {
   "cell_type": "markdown",
   "metadata": {},
   "source": [
    "# Introduction\n",
    "\n",
    "Here is our reference visualization from [The Economist Plot: How much would giving up meat help the environment?](https://www.economist.com/graphic-detail/2019/11/15/how-much-would-giving-up-meat-help-the-environment)\n",
    "\n",
    "![](assets/2020-01-27-replicating-the-economist-plot-how-much-would-giving-up-meat-help-the-environment/plot_original.png)"
   ]
  },
  {
   "cell_type": "markdown",
   "metadata": {},
   "source": [
    "## Import Packages\n",
    "\n",
    "First, let's us import some packages required for replicating the plot."
   ]
  },
  {
   "cell_type": "code",
   "execution_count": 22,
   "metadata": {},
   "outputs": [],
   "source": [
    "library(readxl) # read excel file\n",
    "library(dplyr) # data wrangling\n",
    "library(ggplot2) # data visualization\n",
    "library(ggrepel) # for geom_text_repel\n",
    "library(scales) # modify axes label\n",
    "library(stringr) # string manipulation\n",
    "\n",
    "library(png) # open png image\n",
    "library(grid) # grid graphics for png\n",
    "library(gridExtra) # additional function for grid package\n",
    "\n",
    "options(warn=-1) # supress warning"
   ]
  },
  {
   "cell_type": "markdown",
   "metadata": {},
   "source": [
    "## Load Font\n",
    "\n",
    "Load all fonts from the device and use it to change the font family parameter of the plot."
   ]
  },
  {
   "cell_type": "code",
   "execution_count": 2,
   "metadata": {},
   "outputs": [
    {
     "name": "stderr",
     "output_type": "stream",
     "text": [
      "Registering fonts with R\n",
      "\n"
     ]
    }
   ],
   "source": [
    "library(extrafont)\n",
    "# font_import()\n",
    "loadfonts(device = \"win\")\n",
    "\n",
    "custom_font_family <- \"Segoe UI\""
   ]
  },
  {
   "cell_type": "markdown",
   "metadata": {},
   "source": [
    "# Left Plot\n",
    "\n",
    "This plot visualizes the health and environmental impact of one extra serving per day for each food type. The source of dataset is from PNAS research article [\"Multiple health and environmental impacts of foods\", by Clark et al., PNAS\"](https://www.pnas.org/content/116/46/23357/tab-figures-data).\n",
    "\n",
    "![](assets/2020-01-27-replicating-the-economist-plot-how-much-would-giving-up-meat-help-the-environment/data_left_raw.png)"
   ]
  },
  {
   "cell_type": "markdown",
   "metadata": {},
   "source": [
    "## Data Wrangling\n",
    "\n",
    "Before we go any further with the visualization, let's us prepare the data as follow:\n",
    "\n",
    "1. Read the data from excel\n",
    "\n",
    "2. Select columns of interest: `food_type`, `relative_risk`, and `env_impact`\n",
    "\n",
    "3. Transform `relative_risk` from absolute into relative percentage"
   ]
  },
  {
   "cell_type": "code",
   "execution_count": 3,
   "metadata": {},
   "outputs": [
    {
     "name": "stderr",
     "output_type": "stream",
     "text": [
      "New names:\n",
      "* `` -> ...6\n",
      "* `` -> ...7\n",
      "\n"
     ]
    },
    {
     "data": {
      "text/html": [
       "<table class=\"dataframe\">\n",
       "<caption>A tibble: 6 × 3</caption>\n",
       "<thead>\n",
       "\t<tr><th scope=col>food_type</th><th scope=col>relative_risk</th><th scope=col>env_impact</th></tr>\n",
       "\t<tr><th scope=col>&lt;chr&gt;</th><th scope=col>&lt;dbl&gt;</th><th scope=col>&lt;dbl&gt;</th></tr>\n",
       "</thead>\n",
       "<tbody>\n",
       "\t<tr><td>Whole \r\n",
       "grains* </td><td> -8.0000</td><td>1.623875</td></tr>\n",
       "\t<tr><td>Nuts*             </td><td>-24.0000</td><td>4.026037</td></tr>\n",
       "\t<tr><td>Legumes           </td><td>-11.5264</td><td>4.201329</td></tr>\n",
       "\t<tr><td>Fruits*           </td><td>-11.0000</td><td>1.370614</td></tr>\n",
       "\t<tr><td>Vegetables*       </td><td>-13.0000</td><td>1.000000</td></tr>\n",
       "\t<tr><td>Refined \r\n",
       "grains</td><td> -1.0000</td><td>1.623875</td></tr>\n",
       "</tbody>\n",
       "</table>\n"
      ],
      "text/latex": [
       "A tibble: 6 × 3\n",
       "\\begin{tabular}{lll}\n",
       " food\\_type & relative\\_risk & env\\_impact\\\\\n",
       " <chr> & <dbl> & <dbl>\\\\\n",
       "\\hline\n",
       "\t Whole \r\n",
       "grains*  &  -8.0000 & 1.623875\\\\\n",
       "\t Nuts*              & -24.0000 & 4.026037\\\\\n",
       "\t Legumes            & -11.5264 & 4.201329\\\\\n",
       "\t Fruits*            & -11.0000 & 1.370614\\\\\n",
       "\t Vegetables*        & -13.0000 & 1.000000\\\\\n",
       "\t Refined \r\n",
       "grains &  -1.0000 & 1.623875\\\\\n",
       "\\end{tabular}\n"
      ],
      "text/markdown": [
       "\n",
       "A tibble: 6 × 3\n",
       "\n",
       "| food_type &lt;chr&gt; | relative_risk &lt;dbl&gt; | env_impact &lt;dbl&gt; |\n",
       "|---|---|---|\n",
       "| Whole \r\n",
       "grains*  |  -8.0000 | 1.623875 |\n",
       "| Nuts*              | -24.0000 | 4.026037 |\n",
       "| Legumes            | -11.5264 | 4.201329 |\n",
       "| Fruits*            | -11.0000 | 1.370614 |\n",
       "| Vegetables*        | -13.0000 | 1.000000 |\n",
       "| Refined \r\n",
       "grains |  -1.0000 | 1.623875 |\n",
       "\n"
      ],
      "text/plain": [
       "  food_type          relative_risk env_impact\n",
       "1 Whole \\r\\ngrains*   -8.0000      1.623875  \n",
       "2 Nuts*              -24.0000      4.026037  \n",
       "3 Legumes            -11.5264      4.201329  \n",
       "4 Fruits*            -11.0000      1.370614  \n",
       "5 Vegetables*        -13.0000      1.000000  \n",
       "6 Refined \\r\\ngrains  -1.0000      1.623875  "
      ]
     },
     "metadata": {},
     "output_type": "display_data"
    }
   ],
   "source": [
    "data_left <-\n",
    "  read_xlsx(\"data_input/pnas.1906908116.sd01.xlsx\", sheet = 4, skip = 1) %>% \n",
    "  select(food_type = `Food Group`,\n",
    "         relative_risk = `Mean Relative Risk (RR) of All Cause Mortality`,\n",
    "         env_impact = `Average Relative Environmental Impact`) %>% \n",
    "  mutate(relative_risk = (relative_risk-1)*100)\n",
    "\n",
    "head(data_left)"
   ]
  },
  {
   "cell_type": "markdown",
   "metadata": {},
   "source": [
    "### String manipulation\n",
    "\n",
    "We remove any whitespace and asterisk `*` character from the column `food_type`"
   ]
  },
  {
   "cell_type": "code",
   "execution_count": 4,
   "metadata": {},
   "outputs": [
    {
     "data": {
      "text/html": [
       "<style>\n",
       ".list-inline {list-style: none; margin:0; padding: 0}\n",
       ".list-inline>li {display: inline-block}\n",
       ".list-inline>li:not(:last-child)::after {content: \"\\00b7\"; padding: 0 .5ex}\n",
       "</style>\n",
       "<ol class=list-inline><li>'Whole grains'</li><li>'Nuts'</li><li>'Legumes'</li><li>'Fruits'</li><li>'Vegetables'</li><li>'Refined grains'</li></ol>\n"
      ],
      "text/latex": [
       "\\begin{enumerate*}\n",
       "\\item 'Whole grains'\n",
       "\\item 'Nuts'\n",
       "\\item 'Legumes'\n",
       "\\item 'Fruits'\n",
       "\\item 'Vegetables'\n",
       "\\item 'Refined grains'\n",
       "\\end{enumerate*}\n"
      ],
      "text/markdown": [
       "1. 'Whole grains'\n",
       "2. 'Nuts'\n",
       "3. 'Legumes'\n",
       "4. 'Fruits'\n",
       "5. 'Vegetables'\n",
       "6. 'Refined grains'\n",
       "\n",
       "\n"
      ],
      "text/plain": [
       "[1] \"Whole grains\"   \"Nuts\"           \"Legumes\"        \"Fruits\"        \n",
       "[5] \"Vegetables\"     \"Refined grains\""
      ]
     },
     "metadata": {},
     "output_type": "display_data"
    }
   ],
   "source": [
    "# remove whitespace\n",
    "data_left[1] <- lapply(data_left[1], function(x) gsub('\\\\s+', ' ', x))\n",
    "\n",
    "# remove asterisk\n",
    "data_left[1] <- lapply(data_left[1], function(x) gsub('\\\\*+', '', x))\n",
    "\n",
    "head(data_left$food_type)"
   ]
  },
  {
   "cell_type": "markdown",
   "metadata": {},
   "source": [
    "### Mapping food group\n",
    "\n",
    "We need to create a mapping from `food_type` into `food_group` since the color of points corresponds to each individual food group, which are: Dairy, Eggs, Fish, Meat, Plant matter, and Sugars & Oils."
   ]
  },
  {
   "cell_type": "code",
   "execution_count": 5,
   "metadata": {},
   "outputs": [
    {
     "name": "stdout",
     "output_type": "stream",
     "text": [
      "tibble [15 x 4] (S3: tbl_df/tbl/data.frame)\n",
      " $ food_type    : chr [1:15] \"Whole grains\" \"Nuts\" \"Legumes\" \"Fruits\" ...\n",
      " $ relative_risk: num [1:15] -8 -24 -11.5 -11 -13 ...\n",
      " $ env_impact   : num [1:15] 1.62 4.03 4.2 1.37 1 ...\n",
      " $ food_group   : Factor w/ 6 levels \"Dairy\",\"Eggs\",..: 5 5 5 5 5 5 5 3 1 2 ...\n"
     ]
    }
   ],
   "source": [
    "data_left_clean <-\n",
    "  data_left %>% \n",
    "  mutate(\n",
    "    food_group = as.factor(\n",
    "      case_when(\n",
    "        food_type %in% c(\"Whole grains\", \"Nuts\", \"Legumes\", \"Fruits\", \"Vegetables\", \"Refined grains\", \"Potatoes\") ~ \"Plant matter\",\n",
    "        food_type %in% c(\"Chicken\", \"Unprocessed red meat\", \"Processed red meat\") ~ \"Meat\",\n",
    "        food_type %in% c(\"SSBs\", \"Olive oil\") ~ \"Sugars & oils\",\n",
    "        TRUE ~ as.character(food_type)\n",
    "        )\n",
    "    )\n",
    "  )\n",
    "\n",
    "str(data_left_clean)"
   ]
  },
  {
   "cell_type": "markdown",
   "metadata": {},
   "source": [
    "## Visualize\n",
    "\n",
    "Now, it's time for us to replicate the left plot using `data_left_clean`."
   ]
  },
  {
   "cell_type": "code",
   "execution_count": 6,
   "metadata": {},
   "outputs": [
    {
     "data": {
      "image/png": "[encoded data removed]",
      "text/plain": [
       "plot without title"
      ]
     },
     "metadata": {
      "image/png": {
       "height": 420,
       "width": 420
      }
     },
     "output_type": "display_data"
    }
   ],
   "source": [
    "plot_left <-\n",
    "  ggplot(data = data_left_clean,\n",
    "         aes(x = relative_risk, y = env_impact)) +\n",
    "  geom_hline(yintercept = 0,\n",
    "             lwd = 0.75) +\n",
    "  geom_vline(xintercept = 0,\n",
    "             col = '#D85356',\n",
    "             lwd = 1) +\n",
    "  geom_point(aes(color = food_group), size = 5)\n",
    "  \n",
    "plot_left"
   ]
  },
  {
   "cell_type": "markdown",
   "metadata": {},
   "source": [
    "Here, we create `custom_color_palette` to customize the color of `geom_point()` for each `food_group`."
   ]
  },
  {
   "cell_type": "code",
   "execution_count": 7,
   "metadata": {},
   "outputs": [],
   "source": [
    "custom_color_palette <- list(dairy = \"#F4B265\",\n",
    "                             eggs = \"#066DA0\",\n",
    "                             fish = \"#2FBFD2\",\n",
    "                             meat = \"#963C4C\",\n",
    "                             plant = \"#70CAC6\",\n",
    "                             sugar = \"#AC8D97\")"
   ]
  },
  {
   "cell_type": "markdown",
   "metadata": {},
   "source": [
    "Then, change the scale of both `x` and `y` axes, add necessary labels, and use `custom_color_palette` which is already defined above."
   ]
  },
  {
   "cell_type": "code",
   "execution_count": 8,
   "metadata": {},
   "outputs": [
    {
     "data": {
      "image/png": "[encoded data removed]",
      "text/plain": [
       "plot without title"
      ]
     },
     "metadata": {
      "image/png": {
       "height": 420,
       "width": 420
      }
     },
     "output_type": "display_data"
    }
   ],
   "source": [
    "plot_left <-\n",
    "  plot_left +\n",
    "  scale_x_continuous(limits = c(-31, 45),\n",
    "                     expand = c(0, 0),\n",
    "                     breaks = seq(-30, 40, by = 10)) +\n",
    "  scale_y_continuous(limits = c(0, 80),\n",
    "                     expand = c(0, 0),\n",
    "                     position = \"right\") +\n",
    "  labs(title = \"Health and environmental impact\\nof one extra serving per day\",\n",
    "       x = \"Relative risk of dying, %\",\n",
    "       subtitle = \"Average relative environmental impact*\\n\") +\n",
    "  scale_color_manual(values = unlist(custom_color_palette, use.names = FALSE)) +\n",
    "  coord_cartesian(clip = 'off')\n",
    "\n",
    "plot_left"
   ]
  },
  {
   "cell_type": "markdown",
   "metadata": {},
   "source": [
    "Apply theme to resemble the original plot.\n",
    "\n"
   ]
  },
  {
   "cell_type": "code",
   "execution_count": 9,
   "metadata": {},
   "outputs": [
    {
     "data": {
      "image/png": "[encoded data removed]",
      "text/plain": [
       "plot without title"
      ]
     },
     "metadata": {
      "image/png": {
       "height": 420,
       "width": 420
      }
     },
     "output_type": "display_data"
    }
   ],
   "source": [
    "plot_left <-\n",
    "  plot_left +\n",
    "  theme(\n",
    "      text = element_text(family = custom_font_family, size = 17,\n",
    "                          color = \"black\"),\n",
    "      plot.title = element_text(face = \"bold\", size = 18),\n",
    "      plot.subtitle = element_text(hjust = 1),\n",
    "      \n",
    "      axis.text.x = element_text(color = \"black\"),\n",
    "      axis.text.y = element_blank(),\n",
    "      axis.title.x = element_text(hjust = 0.43),\n",
    "      axis.title.y = element_blank(),\n",
    "      axis.ticks.length = unit(5, \"pt\"),\n",
    "      axis.ticks.x = element_line(size = 0.75),\n",
    "      axis.ticks.y = element_blank(),\n",
    "      \n",
    "      panel.background = element_blank(),\n",
    "      panel.grid.minor = element_blank(),\n",
    "      panel.grid.major.x = element_blank(),\n",
    "      panel.grid.major.y = element_line(color = \"#B2C2CA\", size = 1),\n",
    "      \n",
    "      legend.position = \"none\"\n",
    "    )\n",
    "\n",
    "plot_left"
   ]
  },
  {
   "cell_type": "markdown",
   "metadata": {},
   "source": [
    "Manually add the y-axis inside the plot by using `geom_text()`.\n",
    "\n"
   ]
  },
  {
   "cell_type": "code",
   "execution_count": 10,
   "metadata": {},
   "outputs": [
    {
     "data": {
      "image/png": "[encoded data removed]",
      "text/plain": [
       "plot without title"
      ]
     },
     "metadata": {
      "image/png": {
       "height": 420,
       "width": 420
      }
     },
     "output_type": "display_data"
    }
   ],
   "source": [
    "plot_left <-\n",
    "  plot_left +\n",
    "  geom_text(\n",
    "    data = data.frame(env_impact = seq(0, 80, 20)),\n",
    "    aes(label = env_impact),\n",
    "    x = 45,\n",
    "    hjust = 1,\n",
    "    vjust = -0.4\n",
    "  )\n",
    "\n",
    "plot_left"
   ]
  },
  {
   "cell_type": "markdown",
   "metadata": {},
   "source": [
    "### Highlight\n",
    "\n",
    "As we can see from the plot, there are exactly 10 points which are being highlighted. Here, we create `highlight_color` to customize the color of line for each `food_group`."
   ]
  },
  {
   "cell_type": "code",
   "execution_count": 11,
   "metadata": {},
   "outputs": [],
   "source": [
    "highlight_color <- list(dairy = \"#EAB651\",\n",
    "                        eggs = \"#006399\",\n",
    "                        fish = \"#78ADCA\",\n",
    "                        meat = \"#BE838A\",\n",
    "                        plant = \"#3EADB0\")"
   ]
  },
  {
   "cell_type": "markdown",
   "metadata": {},
   "source": [
    "Create a new data frame called `data_left_highlight` to store the label together with its `nudge_x` and `nudge_y` properties.\n",
    "\n"
   ]
  },
  {
   "cell_type": "code",
   "execution_count": 12,
   "metadata": {},
   "outputs": [
    {
     "data": {
      "text/html": [
       "<table class=\"dataframe\">\n",
       "<caption>A data.frame: 10 × 3</caption>\n",
       "<thead>\n",
       "\t<tr><th scope=col>food_type</th><th scope=col>nudge_x</th><th scope=col>nudge_y</th></tr>\n",
       "\t<tr><th scope=col>&lt;chr&gt;</th><th scope=col>&lt;dbl&gt;</th><th scope=col>&lt;dbl&gt;</th></tr>\n",
       "</thead>\n",
       "<tbody>\n",
       "\t<tr><td>Chicken             </td><td> 0.0</td><td>35</td></tr>\n",
       "\t<tr><td>Potatoes            </td><td>-3.0</td><td>35</td></tr>\n",
       "\t<tr><td>Fish                </td><td> 0.0</td><td>20</td></tr>\n",
       "\t<tr><td>Dairy               </td><td> 6.5</td><td>10</td></tr>\n",
       "\t<tr><td>Refined grains      </td><td> 9.0</td><td>10</td></tr>\n",
       "\t<tr><td>Vegetables          </td><td>-7.0</td><td>17</td></tr>\n",
       "\t<tr><td>Nuts                </td><td>-4.0</td><td> 4</td></tr>\n",
       "\t<tr><td>Eggs                </td><td> 2.0</td><td> 1</td></tr>\n",
       "\t<tr><td>Unprocessed red meat</td><td> 2.0</td><td>-3</td></tr>\n",
       "\t<tr><td>Processed red meat  </td><td>-1.0</td><td>-5</td></tr>\n",
       "</tbody>\n",
       "</table>\n"
      ],
      "text/latex": [
       "A data.frame: 10 × 3\n",
       "\\begin{tabular}{lll}\n",
       " food\\_type & nudge\\_x & nudge\\_y\\\\\n",
       " <chr> & <dbl> & <dbl>\\\\\n",
       "\\hline\n",
       "\t Chicken              &  0.0 & 35\\\\\n",
       "\t Potatoes             & -3.0 & 35\\\\\n",
       "\t Fish                 &  0.0 & 20\\\\\n",
       "\t Dairy                &  6.5 & 10\\\\\n",
       "\t Refined grains       &  9.0 & 10\\\\\n",
       "\t Vegetables           & -7.0 & 17\\\\\n",
       "\t Nuts                 & -4.0 &  4\\\\\n",
       "\t Eggs                 &  2.0 &  1\\\\\n",
       "\t Unprocessed red meat &  2.0 & -3\\\\\n",
       "\t Processed red meat   & -1.0 & -5\\\\\n",
       "\\end{tabular}\n"
      ],
      "text/markdown": [
       "\n",
       "A data.frame: 10 × 3\n",
       "\n",
       "| food_type &lt;chr&gt; | nudge_x &lt;dbl&gt; | nudge_y &lt;dbl&gt; |\n",
       "|---|---|---|\n",
       "| Chicken              |  0.0 | 35 |\n",
       "| Potatoes             | -3.0 | 35 |\n",
       "| Fish                 |  0.0 | 20 |\n",
       "| Dairy                |  6.5 | 10 |\n",
       "| Refined grains       |  9.0 | 10 |\n",
       "| Vegetables           | -7.0 | 17 |\n",
       "| Nuts                 | -4.0 |  4 |\n",
       "| Eggs                 |  2.0 |  1 |\n",
       "| Unprocessed red meat |  2.0 | -3 |\n",
       "| Processed red meat   | -1.0 | -5 |\n",
       "\n"
      ],
      "text/plain": [
       "   food_type            nudge_x nudge_y\n",
       "1  Chicken               0.0    35     \n",
       "2  Potatoes             -3.0    35     \n",
       "3  Fish                  0.0    20     \n",
       "4  Dairy                 6.5    10     \n",
       "5  Refined grains        9.0    10     \n",
       "6  Vegetables           -7.0    17     \n",
       "7  Nuts                 -4.0     4     \n",
       "8  Eggs                  2.0     1     \n",
       "9  Unprocessed red meat  2.0    -3     \n",
       "10 Processed red meat   -1.0    -5     "
      ]
     },
     "metadata": {},
     "output_type": "display_data"
    }
   ],
   "source": [
    "# collapse-hide\n",
    "data_left_highlight <- data.frame(\n",
    "  food_type = c(\"Chicken\", \"Potatoes\", \"Fish\",\n",
    "                \"Dairy\", \"Refined grains\",\n",
    "                \"Vegetables\",\n",
    "                \"Nuts\", \"Eggs\",\n",
    "                \"Unprocessed red meat\", \"Processed red meat\"),\n",
    "  nudge_x = c(0, -3, 0, 6.5, 9, -7,\n",
    "              -4, 2, 2, -1),\n",
    "  nudge_y = c(35, 35, 20, 10, 10, 17,\n",
    "              4, 1, -3, -5)\n",
    ")\n",
    "\n",
    "data_left_highlight"
   ]
  },
  {
   "cell_type": "markdown",
   "metadata": {},
   "source": [
    "We loop through each row of `data_left_highlight` to highlight the points one by one."
   ]
  },
  {
   "cell_type": "code",
   "execution_count": 13,
   "metadata": {},
   "outputs": [
    {
     "data": {
      "image/png": "[encoded data removed]",
      "text/plain": [
       "plot without title"
      ]
     },
     "metadata": {
      "image/png": {
       "height": 420,
       "width": 420
      }
     },
     "output_type": "display_data"
    }
   ],
   "source": [
    "# collapse-hide\n",
    "\n",
    "plot_left_highlight <- plot_left\n",
    "for (row in 1:nrow(data_left_highlight)) {\n",
    "  data_highlight <-\n",
    "    data_left_clean %>%\n",
    "    filter(food_type == data_left_highlight$food_type[row])\n",
    "  \n",
    "  if (row <= 6) {\n",
    "    # text with segment line (repel)\n",
    "    plot_left_highlight <-\n",
    "    plot_left_highlight +\n",
    "      geom_text_repel(\n",
    "        aes(label = food_type, \n",
    "            family = custom_font_family),\n",
    "        size = 5,\n",
    "        data = data_highlight,\n",
    "        segment.color = highlight_color[data_highlight$food_group],\n",
    "        segment.size = 1,\n",
    "        nudge_x = data_left_highlight$nudge_x[row],\n",
    "        nudge_y = data_left_highlight$nudge_y[row],\n",
    "        direction = \"y\"\n",
    "      )\n",
    "  } else {\n",
    "    # text without segment line\n",
    "    plot_left_highlight <-\n",
    "    plot_left_highlight +\n",
    "      geom_text(\n",
    "        aes(label = str_wrap(food_type, 10),\n",
    "            family = custom_font_family),\n",
    "        size = 5,\n",
    "        data = data_highlight,\n",
    "        nudge_x = data_left_highlight$nudge_x[row],\n",
    "        nudge_y = data_left_highlight$nudge_y[row],\n",
    "        hjust = ifelse(row == 10, 1, 0)\n",
    "        )\n",
    "  }\n",
    "  \n",
    "  plot_left_highlight <-\n",
    "    plot_left_highlight +\n",
    "    geom_point(\n",
    "      data = data_highlight,\n",
    "      shape = 21, size = 5,\n",
    "      color = highlight_color[data_highlight$food_group],\n",
    "      fill = custom_color_palette[data_highlight$food_group])\n",
    "}\n",
    "\n",
    "plot_left_highlight"
   ]
  },
  {
   "cell_type": "markdown",
   "metadata": {},
   "source": [
    "## Result\n",
    "\n",
    "Finally, we add black line as a header on top-left of the plot and export it as `economist_meat_plot_left.png`."
   ]
  },
  {
   "cell_type": "code",
   "execution_count": 14,
   "metadata": {},
   "outputs": [
    {
     "data": {
      "text/html": [
       "<strong>png:</strong> 2"
      ],
      "text/latex": [
       "\\textbf{png:} 2"
      ],
      "text/markdown": [
       "**png:** 2"
      ],
      "text/plain": [
       "png \n",
       "  2 "
      ]
     },
     "metadata": {},
     "output_type": "display_data"
    }
   ],
   "source": [
    "# collapse-hide\n",
    "png(\"output/economist_meat_plot_left.png\", width = 7, height = 6, units = \"in\", res = 300)\n",
    "plot_left_highlight\n",
    "\n",
    "# add header: black line\n",
    "grid.rect(x = 0.0575, y = 0.995,\n",
    "          hjust = 1, vjust = 0,\n",
    "          width = 0.05,\n",
    "          gp = gpar(fill=\"#353535\",lwd=0))\n",
    "dev.off()"
   ]
  },
  {
   "cell_type": "markdown",
   "metadata": {},
   "source": [
    "![](output/economist_meat_plot_left.png)"
   ]
  },
  {
   "cell_type": "markdown",
   "metadata": {},
   "source": [
    "# Right Plot\n",
    "\n",
    "This plot visualizes the greenhouse-gas footprint (kg of CO2 equivalent per person per year) in United States for each diet type and food group. The source of dataset is from ScienceDirect article [\"Country-specific dietary shifts to mitigate climate and water crises, by Kim et al., Global Environmental Change\"](https://www.sciencedirect.com/science/article/pii/S0959378018306101).\n",
    "\n",
    "![](assets/2020-01-27-replicating-the-economist-plot-how-much-would-giving-up-meat-help-the-environment/data_right_raw.png)"
   ]
  },
  {
   "cell_type": "markdown",
   "metadata": {},
   "source": [
    "## Data Wrangling\n",
    "\n",
    "Before we go any further with the visualization, let's us prepare the data:\n",
    "\n",
    "1. Read the data from csv file\n",
    "\n",
    "2. Filter the data which country is \"United States of America\" and attribute is the greenhouse-gas footprint which stored as \"kg_co2e_total\"\n",
    "\n",
    "3. Filter `diet_type` based on plot: \"Average diet\", \"Reduced diet\", \"No dairy\", \"Vegetarian\", \"Two-thirds vegan\", and \"Vegan\"\n",
    "\n",
    "4. Select columns of interest: `diet`, `food_type`, and `value`"
   ]
  },
  {
   "cell_type": "code",
   "execution_count": 15,
   "metadata": {},
   "outputs": [
    {
     "data": {
      "text/html": [
       "<table class=\"dataframe\">\n",
       "<caption>A data.frame: 6 × 3</caption>\n",
       "<thead>\n",
       "\t<tr><th></th><th scope=col>diet</th><th scope=col>food_type</th><th scope=col>value</th></tr>\n",
       "\t<tr><th></th><th scope=col>&lt;chr&gt;</th><th scope=col>&lt;chr&gt;</th><th scope=col>&lt;dbl&gt;</th></tr>\n",
       "</thead>\n",
       "<tbody>\n",
       "\t<tr><th scope=row>1</th><td>2/3_vegan</td><td>Aquatic animals</td><td> 20.92218</td></tr>\n",
       "\t<tr><th scope=row>2</th><td>2/3_vegan</td><td>Bovine meat    </td><td>240.83332</td></tr>\n",
       "\t<tr><th scope=row>3</th><td>2/3_vegan</td><td>Dairy          </td><td>138.51703</td></tr>\n",
       "\t<tr><th scope=row>4</th><td>2/3_vegan</td><td>Eggs           </td><td> 20.42052</td></tr>\n",
       "\t<tr><th scope=row>5</th><td>2/3_vegan</td><td>Fruits         </td><td> 22.46829</td></tr>\n",
       "\t<tr><th scope=row>6</th><td>2/3_vegan</td><td>Grains         </td><td> 62.13681</td></tr>\n",
       "</tbody>\n",
       "</table>\n"
      ],
      "text/latex": [
       "A data.frame: 6 × 3\n",
       "\\begin{tabular}{r|lll}\n",
       "  & diet & food\\_type & value\\\\\n",
       "  & <chr> & <chr> & <dbl>\\\\\n",
       "\\hline\n",
       "\t1 & 2/3\\_vegan & Aquatic animals &  20.92218\\\\\n",
       "\t2 & 2/3\\_vegan & Bovine meat     & 240.83332\\\\\n",
       "\t3 & 2/3\\_vegan & Dairy           & 138.51703\\\\\n",
       "\t4 & 2/3\\_vegan & Eggs            &  20.42052\\\\\n",
       "\t5 & 2/3\\_vegan & Fruits          &  22.46829\\\\\n",
       "\t6 & 2/3\\_vegan & Grains          &  62.13681\\\\\n",
       "\\end{tabular}\n"
      ],
      "text/markdown": [
       "\n",
       "A data.frame: 6 × 3\n",
       "\n",
       "| <!--/--> | diet &lt;chr&gt; | food_type &lt;chr&gt; | value &lt;dbl&gt; |\n",
       "|---|---|---|---|\n",
       "| 1 | 2/3_vegan | Aquatic animals |  20.92218 |\n",
       "| 2 | 2/3_vegan | Bovine meat     | 240.83332 |\n",
       "| 3 | 2/3_vegan | Dairy           | 138.51703 |\n",
       "| 4 | 2/3_vegan | Eggs            |  20.42052 |\n",
       "| 5 | 2/3_vegan | Fruits          |  22.46829 |\n",
       "| 6 | 2/3_vegan | Grains          |  62.13681 |\n",
       "\n"
      ],
      "text/plain": [
       "  diet      food_type       value    \n",
       "1 2/3_vegan Aquatic animals  20.92218\n",
       "2 2/3_vegan Bovine meat     240.83332\n",
       "3 2/3_vegan Dairy           138.51703\n",
       "4 2/3_vegan Eggs             20.42052\n",
       "5 2/3_vegan Fruits           22.46829\n",
       "6 2/3_vegan Grains           62.13681"
      ]
     },
     "metadata": {},
     "output_type": "display_data"
    }
   ],
   "source": [
    "diet_type <- c(\"baseline\", \"baseline_adjusted\", \"no_dairy\", \"lacto_ovo_vegetarian\", \"2/3_vegan\", \"vegan\")\n",
    "\n",
    "data_right_clean <- \n",
    "  read.csv(\"data_input/diet_footprints_by_country_diet_output_group.csv\") %>% \n",
    "  filter(country == \"United States of America\",\n",
    "         attribute == \"kg_co2e_total\",\n",
    "         diet %in% diet_type) %>%\n",
    "  select(diet, food_type = output_group, value)\n",
    "\n",
    "head(data_right_clean)"
   ]
  },
  {
   "cell_type": "markdown",
   "metadata": {},
   "source": [
    "### Mapping food group\n",
    "\n",
    "Just like the left plot, we need to create a mapping from `food_type` into `food_group` since the color of bars corresponds to each individual food group, which are: Dairy, Eggs, Fish, Meat, Plant matter, and Sugars & Oils. Then we drop `food_type` since it's not being used for our plot."
   ]
  },
  {
   "cell_type": "code",
   "execution_count": 16,
   "metadata": {},
   "outputs": [
    {
     "name": "stdout",
     "output_type": "stream",
     "text": [
      "'data.frame':\t89 obs. of  3 variables:\n",
      " $ diet      : chr  \"2/3_vegan\" \"2/3_vegan\" \"2/3_vegan\" \"2/3_vegan\" ...\n",
      " $ value     : num  20.9 240.8 138.5 20.4 22.5 ...\n",
      " $ food_group: Factor w/ 6 levels \"Dairy\",\"Eggs\",..: 3 4 1 2 5 5 4 5 4 4 ...\n"
     ]
    }
   ],
   "source": [
    "data_right_clean <-\n",
    "  data_right_clean %>% \n",
    "  mutate(\n",
    "    food_group = as.factor(\n",
    "      case_when(\n",
    "        food_type %in% c(\"Aquatic animals\") ~ \"Fish\",\n",
    "        food_type %in% c(\"Bovine meat\", \"Insects\", \"Offals\", \"Pig meat\", \"Poultry\", \"Sheep and goat meat\") ~ \"Meat\",\n",
    "        food_type %in% c(\"Fruits\", \"Grains\", \"Nuts and seeds\", \"Pulses and soy\", \"Starchy roots\", \"Vegetables\") ~ \"Plant matter\",\n",
    "        food_type %in% c(\"Sugars\", \"Vegetable oils\") ~ \"Sugars & oils\",\n",
    "        TRUE ~ as.character(food_type)\n",
    "        )\n",
    "    )\n",
    "  ) %>% \n",
    "  select(-food_type)\n",
    "\n",
    "str(data_right_clean)"
   ]
  },
  {
   "cell_type": "markdown",
   "metadata": {},
   "source": [
    "## Visualize\n",
    "\n",
    "Now, it's time for us to replicate the right plot using `data_right_clean`."
   ]
  },
  {
   "cell_type": "code",
   "execution_count": 17,
   "metadata": {},
   "outputs": [
    {
     "data": {
      "image/png": "[encoded data removed]",
      "text/plain": [
       "plot without title"
      ]
     },
     "metadata": {
      "image/png": {
       "height": 420,
       "width": 420
      }
     },
     "output_type": "display_data"
    }
   ],
   "source": [
    "plot_right <-\n",
    "  ggplot(data = data_right_clean,\n",
    "         aes(x = reorder(diet, value, sum), y = value)) +\n",
    "  geom_col(aes(fill = food_group),\n",
    "           position = position_stack(reverse = TRUE),\n",
    "           width = 0.75) +\n",
    "  geom_hline(yintercept = 0,\n",
    "             lwd = 1.5) +\n",
    "  coord_flip()\n",
    "\n",
    "plot_right"
   ]
  },
  {
   "cell_type": "markdown",
   "metadata": {},
   "source": [
    "Here, we change the scale of both x-y axes, add necessary labels, and use `custom_color_palette` which is already defined above."
   ]
  },
  {
   "cell_type": "code",
   "execution_count": 18,
   "metadata": {},
   "outputs": [
    {
     "data": {
      "image/png": "[encoded data removed]",
      "text/plain": [
       "plot without title"
      ]
     },
     "metadata": {
      "image/png": {
       "height": 420,
       "width": 420
      }
     },
     "output_type": "display_data"
    }
   ],
   "source": [
    "plot_right <-\n",
    "  plot_right +\n",
    "  scale_x_discrete(labels = str_wrap(rev(c(\"Average diet\", \"Reduced diet*\", \"No diary*\", \"Vegetarian*\", \"Two-thirds vegan*\", \"Vegan*\")),\n",
    "                                     width = 15)) +\n",
    "  scale_y_continuous(limits = c(0, 2600),\n",
    "                     expand = c(0, 0),\n",
    "                     position = \"right\",\n",
    "                     labels = comma) +\n",
    "  labs(title = \"United States, greenhouse-gas footprint\",\n",
    "       subtitle = expression(paste(\"kg of \", CO[2], \" equivalent per person per year\"))) +\n",
    "  scale_fill_manual(values = unlist(custom_color_palette, use.names = FALSE))\n",
    "\n",
    "plot_right"
   ]
  },
  {
   "cell_type": "markdown",
   "metadata": {},
   "source": [
    "Apply theme to resemble the original plot."
   ]
  },
  {
   "cell_type": "code",
   "execution_count": 19,
   "metadata": {},
   "outputs": [
    {
     "data": {
      "image/png": "[encoded data removed]",
      "text/plain": [
       "plot without title"
      ]
     },
     "metadata": {
      "image/png": {
       "height": 420,
       "width": 420
      }
     },
     "output_type": "display_data"
    }
   ],
   "source": [
    "plot_right <-\n",
    "  plot_right +\n",
    "  theme(\n",
    "    text = element_text(family = custom_font_family, size = 17),\n",
    "    \n",
    "    plot.title = element_text(face = \"bold\", size = 18),\n",
    "    plot.title.position = \"plot\",\n",
    "    plot.subtitle = element_text(face = \"bold\"),\n",
    "    \n",
    "    axis.text = element_text(color = \"black\"), \n",
    "    axis.text.y = element_text(hjust = 0),\n",
    "    axis.title = element_blank(),\n",
    "    axis.ticks = element_blank(),\n",
    "    \n",
    "    panel.background = element_blank(),\n",
    "    panel.grid.minor = element_blank(),\n",
    "    panel.grid.major.x = element_line(color = \"#B2C2CA\", size = 1),\n",
    "    panel.grid.major.y = element_blank(),\n",
    "    \n",
    "    legend.title = element_blank(),\n",
    "    legend.position = \"top\",\n",
    "    legend.direction = \"horizontal\"\n",
    "  ) +\n",
    "  guides(fill = guide_legend(nrow = 1))\n",
    "\n",
    "plot_right"
   ]
  },
  {
   "cell_type": "markdown",
   "metadata": {},
   "source": [
    "## Result\n",
    "\n",
    "Finally, we shift the legend to the left, add black line as a header on top-left of the plot, and export it as `economist_meat_plot_right.png`."
   ]
  },
  {
   "cell_type": "code",
   "execution_count": 20,
   "metadata": {},
   "outputs": [
    {
     "data": {
      "text/html": [
       "<strong>png:</strong> 2"
      ],
      "text/latex": [
       "\\textbf{png:} 2"
      ],
      "text/markdown": [
       "**png:** 2"
      ],
      "text/plain": [
       "png \n",
       "  2 "
      ]
     },
     "metadata": {},
     "output_type": "display_data"
    }
   ],
   "source": [
    "# collapse-hide\n",
    "png(\"output/economist_meat_plot_right.png\", width = 7, height = 6, units = \"in\", res = 300)\n",
    "\n",
    "# shift legend\n",
    "plot_right <-\n",
    "  plot_right +\n",
    "  theme(\n",
    "    legend.spacing.x = unit(3, units = \"pt\"),\n",
    "    legend.text = element_text(margin = margin(\n",
    "      r = 15, unit = \"pt\")),\n",
    "    legend.justification = c(0, 0.875)\n",
    "    )\n",
    "gt <- ggplot_gtable(ggplot_build(plot_right))\n",
    "gb <- which(gt$layout$name == \"guide-box\")\n",
    "gt$layout[gb, 1:4] <- c(1, 1, max(gt$layout$b), max(gt$layout$r))\n",
    "grid.newpage()\n",
    "grid.draw(gt)\n",
    "\n",
    "# add header: black line\n",
    "grid.rect(x = 0.0575, y = 0.995,\n",
    "          hjust = 1, vjust = 0,\n",
    "          width = 0.05,\n",
    "          gp = gpar(fill=\"#353535\",lwd=0))\n",
    "dev.off()"
   ]
  },
  {
   "cell_type": "markdown",
   "metadata": {},
   "source": [
    "![](output/economist_meat_plot_right.png)"
   ]
  },
  {
   "cell_type": "markdown",
   "metadata": {},
   "source": [
    "# Final Result\n",
    "\n",
    "Last but foremost, we combine both of the plot as one `png` file. The steps are as follow:\n",
    "\n",
    "1. Read `economist_meat_plot_left.png` and `economist_meat_plot_right.png`\n",
    "\n",
    "2. Arrange two plots as one `png`\n",
    "\n",
    "3. Add red line as header, which is the signature of The Economist Plot\n",
    "\n",
    "4. Add title and caption as needed"
   ]
  },
  {
   "cell_type": "code",
   "execution_count": 21,
   "metadata": {},
   "outputs": [
    {
     "data": {
      "text/html": [
       "<strong>png:</strong> 2"
      ],
      "text/latex": [
       "\\textbf{png:} 2"
      ],
      "text/markdown": [
       "**png:** 2"
      ],
      "text/plain": [
       "png \n",
       "  2 "
      ]
     },
     "metadata": {},
     "output_type": "display_data"
    }
   ],
   "source": [
    "# collapse-hide\n",
    "png(\"output/economist_meat_plot_combined.png\", width = 13, height = 7, units = \"in\", res = 300)\n",
    "\n",
    "# step 1: read left and right plots\n",
    "img1 <- rasterGrob(as.raster(readPNG(\"output/economist_meat_plot_left.png\")), interpolate = FALSE)\n",
    "img2 <- rasterGrob(as.raster(readPNG(\"output/economist_meat_plot_right.png\")), interpolate = FALSE)\n",
    "spacing <- rectGrob(gp=gpar(col=\"white\"))\n",
    "\n",
    "# step 2: arrange two plots\n",
    "grid.arrange(img1, spacing, img2, ncol = 3,\n",
    "             widths = c(0.49, 0.02, 0.49))\n",
    "\n",
    "# step 3: add red line\n",
    "grid.rect(x = 1, y = 0.995,\n",
    "          hjust = 1, vjust = 0,\n",
    "          gp = gpar(fill='#E5001C',lwd=0))\n",
    "grid.rect(x = 0.04, y = 0.98,\n",
    "          hjust = 1, vjust = 0,\n",
    "          gp = gpar(fill='#E5001C',lwd=0))\n",
    "\n",
    "# step 4: add title\n",
    "grid.text(\"High-steak diets\",\n",
    "          x = 0.165, y = 0.94,\n",
    "          hjust = 1, vjust = 0,\n",
    "          gp = gpar(fontsize=20, fontfamily=custom_font_family,\n",
    "                    fontface=\"bold\"))\n",
    "\n",
    "# add caption (left)\n",
    "caption_left <- 'Sources: \"Multiple health and environmental impacts of foods\", by Clark et al., PNAS; \"Country-specific\\ndietary shifts to mitigate climate and water crises\", by Kim et al., Global Environmental Change'\n",
    "grid.text(caption_left,\n",
    "          x = 0, y = 0.02,\n",
    "          hjust = 0, vjust = 0,\n",
    "          gp = gpar(fontsize=15, fontfamily=custom_font_family,\n",
    "                    col=\"#5E5E5E\"))\n",
    "\n",
    "# add caption (right, top)\n",
    "caption_right_top <- expression(paste(\"\"^\"*\", \"Vegetables=1\\t\",\n",
    "                                      \"\"^\"+\", \"Simulated diet, to\"))\n",
    "grid.text(caption_right_top,\n",
    "          x = 0.995, y = 0.055,\n",
    "          hjust = 1, vjust = 0,\n",
    "          gp = gpar(fontsize=15, fontfamily=custom_font_family,\n",
    "                    col=\"#5E5E5E\"))\n",
    "\n",
    "# add caption (right, bottom)\n",
    "grid.text(\"reach 2,300 calories per day\",\n",
    "          x = 0.995, y = 0.02,\n",
    "          hjust = 1, vjust = 0,\n",
    "          gp = gpar(fontsize=15, fontfamily=custom_font_family,\n",
    "                    col=\"#5E5E5E\"))\n",
    "\n",
    "dev.off()"
   ]
  },
  {
   "cell_type": "markdown",
   "metadata": {},
   "source": [
    "Voilà, here it is! We successfully replicate The Economist Plot by using `ggplot2` package.\n",
    "\n",
    "![](output/economist_meat_plot_combined.png)"
   ]
  }
 ],
 "metadata": {
  "anaconda-cloud": "",
  "interpreter": {
   "hash": "c60e792bde87feb5da4f153729448ae9ab3a1011cc5943243f5dc7e8e32fa00a"
  },
  "kernelspec": {
   "display_name": "R",
   "language": "R",
   "name": "ir"
  },
  "language_info": {
   "codemirror_mode": "r",
   "file_extension": ".r",
   "mimetype": "text/x-r-source",
   "name": "R",
   "pygments_lexer": "r",
   "version": "4.0.2"
  },
  "toc": {
   "base_numbering": 1,
   "nav_menu": {},
   "number_sections": true,
   "sideBar": true,
   "skip_h1_title": false,
   "title_cell": "Table of Contents",
   "title_sidebar": "Contents",
   "toc_cell": false,
   "toc_position": {},
   "toc_section_display": true,
   "toc_window_display": true
  },
  "varInspector": {
   "cols": {
    "lenName": 16,
    "lenType": 16,
    "lenVar": 40
   },
   "kernels_config": {
    "python": {
     "delete_cmd_postfix": "",
     "delete_cmd_prefix": "del ",
     "library": "var_list.py",
     "varRefreshCmd": "print(var_dic_list())"
    },
    "r": {
     "delete_cmd_postfix": ") ",
     "delete_cmd_prefix": "rm(",
     "library": "var_list.r",
     "varRefreshCmd": "cat(var_dic_list()) "
    }
   },
   "types_to_exclude": [
    "module",
    "function",
    "builtin_function_or_method",
    "instance",
    "_Feature"
   ],
   "window_display": false
  }
 },
 "nbformat": 4,
 "nbformat_minor": 1
}

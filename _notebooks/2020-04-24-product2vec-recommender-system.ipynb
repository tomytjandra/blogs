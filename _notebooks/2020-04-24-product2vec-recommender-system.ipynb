{
  "cells": [
    {
      "cell_type": "markdown",
      "metadata": {},
      "source": [
        "# \"Product2Vec: Product Recommender System using Word2Vec\"\n",
        "> \"A Word2Vec implementation on simple product recommender system using Online Retail Dataset. We discuss how the classical use of Word2Vec can be applied to other non-NLP use cases. The trained Product2Vec model will be used to recommend new product based on last bought product and also based on multiple previous purchases. At the end of this post, there are two multiple choice questions to test your understanding.\"\n",
        "\n",
        "- toc: true\n",
        "- badges: true\n",
        "- comments: true\n",
        "- author: Tomy Tjandra\n",
        "- categories: [python, recommender-system, gensim]\n",
        "- image: images/product2vec-recommender-system.webp"
      ]
    },
    {
      "cell_type": "markdown",
      "metadata": {},
      "source": [
        "> Important: If you haven't understand how Word2Vec works, please visit my blog on [Understanding Word2Vec with Gensim and Elang](https://tomytjandra.github.io/blogs/python/natural-language-processing/gensim/2020/04/24/understanding-word2vec-with-gensim-and-elang.html)."
      ]
    },
    {
      "cell_type": "markdown",
      "metadata": {
        "id": "OamAT514jQKh"
      },
      "source": [
        "# What is Product2Vec?\n",
        "\n",
        "Can you guess the fundamental property of a natural language that Word2Vec exploits to create vector representations of text? It is the **sequential nature of the text**. Every sentence or phrase has a sequence of words. In the absence of this sequence, we would have a hard time understanding the text. Just try to interpret the sentence below:\n",
        "\n",
        "```\n",
        "prediction-based developed word a by Word2Vec is embeddings Tomas Mikolov.\n",
        "```\n",
        "\n",
        "There is no sequence in this sentence. It becomes difficult for us to grasp it and that’s why the sequence of words is so important in any natural language. This very property can be applied to data other than text that has a sequential nature as well."
      ]
    },
    {
      "cell_type": "markdown",
      "metadata": {},
      "source": [
        "One such data is the **purchases made by the consumers on E-commerce websites**. Most of the time there is a pattern in the buying behavior of the consumers. For example, a person involved in sports-related activities might have an online buying pattern similar to this:\n",
        "\n",
        "![](assets/2020-04-24-product2vec-recommender-system/product.webp)\n",
        "\n",
        "If we can represent each of these products by a vector, then we can easily find similar products. So, if a user is checking out a product online, then we can easily recommend him/her similar products by using the vector **similarity score** between the products.\n",
        "\n",
        "But how do we get a vector representation of these products? Can we use the word2vec model to get these vectors?\n",
        "\n",
        "We surely can! Just imagine **the buying history of a consumer as a sentence** and **the products as its words**:\n",
        "\n",
        "![](assets/2020-04-24-product2vec-recommender-system/product2vec.webp)\n",
        "\n",
        "Now, let’s set up and understand our problem statement:\n",
        "\n",
        "**We are asked to create a system that automatically recommends a certain number of products to the consumers on an E-commerce website based on the past purchase behavior of the consumers.**"
      ]
    },
    {
      "cell_type": "markdown",
      "metadata": {},
      "source": [
        "# Recommender Systems\n",
        "\n",
        "![](assets/2020-04-24-product2vec-recommender-system/recommender-systems.png)\n",
        "\n",
        "**Collaborative:**\n",
        "\n",
        "(+) Require no information about users or items and, so can be used in many situations. \n",
        "\n",
        "(+) More accurate recommendations, since new interactions recorded over time bring new information and make the system more effective.\n",
        "\n",
        "(-) **Cold start problem**: Impossible to recommend items to new users or to recommend a new item to any users and many users or items have too few interactions to be efficiently handled.\n",
        "\n",
        "**Content-based:**\n",
        "\n",
        "(+) Suffer less from the **cold start problem** than collaborative approaches: new users or items can be described by their characteristics (content) and so relevant suggestions can be done for these new entities.\n",
        "\n",
        "(-) Tend to **over-specialize**: it will recommend items similar to those already consumed, with a tendency of creating a \"filter bubble\".\n",
        "\n",
        "We'll be using collaborative, memory-based method for our case study. Let's go:"
      ]
    },
    {
      "cell_type": "markdown",
      "metadata": {
        "id": "17YX616_sisH"
      },
      "source": [
        "# Import Libraries and Model\n",
        "\n",
        "Let’s fire up our notebook and quickly import the required libraries.\n",
        "\n",
        "We create a connection between Google Colab and Drive. **Please go through the authentication step** then download the file using the Google File ID."
      ]
    },
    {
      "cell_type": "code",
      "execution_count": null,
      "metadata": {
        "id": "UMA75KlaIWNx"
      },
      "outputs": [],
      "source": [
        "# collapse-hide\n",
        "from pydrive.auth import GoogleAuth\n",
        "from pydrive.drive import GoogleDrive\n",
        "from google.colab import auth\n",
        "from oauth2client.client import GoogleCredentials\n",
        "\n",
        "auth.authenticate_user()\n",
        "gauth = GoogleAuth()\n",
        "gauth.credentials = GoogleCredentials.get_application_default()\n",
        "drive = GoogleDrive(gauth)"
      ]
    },
    {
      "cell_type": "code",
      "execution_count": null,
      "metadata": {
        "id": "8KA5FDtEIY06"
      },
      "outputs": [],
      "source": [
        "# download pre-trained model\n",
        "# you can replace the id with id of file you want to access\n",
        "model_id = \"1-rFzYA2oNPm2F680L4FsjnkIpDzCDlwK\"\n",
        "downloaded = drive.CreateFile({'id': model_id})\n",
        "downloaded.GetContentFile('recommender.model')"
      ]
    },
    {
      "cell_type": "code",
      "execution_count": null,
      "metadata": {
        "id": "Eau0mNodEtG7"
      },
      "outputs": [],
      "source": [
        "# data analysis\n",
        "import pandas as pd\n",
        "import numpy as np\n",
        "\n",
        "# modeling\n",
        "from sklearn.model_selection import train_test_split\n",
        "from gensim.models import Word2Vec\n",
        "\n",
        "# visualization\n",
        "import matplotlib.pyplot as plt\n",
        "%matplotlib inline\n",
        "\n",
        "# other\n",
        "from tqdm import tqdm\n",
        "import warnings\n",
        "warnings.filterwarnings('ignore')\n",
        "\n",
        "pd.set_option('display.max_columns', None)\n",
        "pd.set_option('display.max_rows', None)\n",
        "pd.set_option('display.max_colwidth', -1)"
      ]
    },
    {
      "cell_type": "markdown",
      "metadata": {
        "id": "rxtPUU2SU9r9"
      },
      "source": [
        "# Explore the Data\n",
        "\n",
        "We are going to use an Online Retail Dataset that you can download from [UCI Machine Learning](https://archive.ics.uci.edu/ml/machine-learning-databases/00352/)."
      ]
    },
    {
      "cell_type": "markdown",
      "metadata": {
        "id": "tFQNFZiwaoIv"
      },
      "source": [
        "### Import Data"
      ]
    },
    {
      "cell_type": "code",
      "execution_count": null,
      "metadata": {
        "colab": {
          "base_uri": "https://localhost:8080/",
          "height": 363
        },
        "id": "WaR7WqP1ZYBH",
        "outputId": "3dbfa731-a01e-4870-c9ab-e9f8fce3bb6b"
      },
      "outputs": [
        {
          "data": {
            "text/html": [
              "<div>\n",
              "<style scoped>\n",
              "    .dataframe tbody tr th:only-of-type {\n",
              "        vertical-align: middle;\n",
              "    }\n",
              "\n",
              "    .dataframe tbody tr th {\n",
              "        vertical-align: top;\n",
              "    }\n",
              "\n",
              "    .dataframe thead th {\n",
              "        text-align: right;\n",
              "    }\n",
              "</style>\n",
              "<table border=\"1\" class=\"dataframe\">\n",
              "  <thead>\n",
              "    <tr style=\"text-align: right;\">\n",
              "      <th></th>\n",
              "      <th>InvoiceNo</th>\n",
              "      <th>StockCode</th>\n",
              "      <th>Description</th>\n",
              "      <th>Quantity</th>\n",
              "      <th>InvoiceDate</th>\n",
              "      <th>UnitPrice</th>\n",
              "      <th>CustomerID</th>\n",
              "      <th>Country</th>\n",
              "    </tr>\n",
              "  </thead>\n",
              "  <tbody>\n",
              "    <tr>\n",
              "      <th>0</th>\n",
              "      <td>536365</td>\n",
              "      <td>85123A</td>\n",
              "      <td>WHITE HANGING HEART T-LIGHT HOLDER</td>\n",
              "      <td>6</td>\n",
              "      <td>2010-12-01 08:26:00</td>\n",
              "      <td>2.55</td>\n",
              "      <td>17850.0</td>\n",
              "      <td>United Kingdom</td>\n",
              "    </tr>\n",
              "    <tr>\n",
              "      <th>1</th>\n",
              "      <td>536365</td>\n",
              "      <td>71053</td>\n",
              "      <td>WHITE METAL LANTERN</td>\n",
              "      <td>6</td>\n",
              "      <td>2010-12-01 08:26:00</td>\n",
              "      <td>3.39</td>\n",
              "      <td>17850.0</td>\n",
              "      <td>United Kingdom</td>\n",
              "    </tr>\n",
              "    <tr>\n",
              "      <th>2</th>\n",
              "      <td>536365</td>\n",
              "      <td>84406B</td>\n",
              "      <td>CREAM CUPID HEARTS COAT HANGER</td>\n",
              "      <td>8</td>\n",
              "      <td>2010-12-01 08:26:00</td>\n",
              "      <td>2.75</td>\n",
              "      <td>17850.0</td>\n",
              "      <td>United Kingdom</td>\n",
              "    </tr>\n",
              "    <tr>\n",
              "      <th>3</th>\n",
              "      <td>536365</td>\n",
              "      <td>84029G</td>\n",
              "      <td>KNITTED UNION FLAG HOT WATER BOTTLE</td>\n",
              "      <td>6</td>\n",
              "      <td>2010-12-01 08:26:00</td>\n",
              "      <td>3.39</td>\n",
              "      <td>17850.0</td>\n",
              "      <td>United Kingdom</td>\n",
              "    </tr>\n",
              "    <tr>\n",
              "      <th>4</th>\n",
              "      <td>536365</td>\n",
              "      <td>84029E</td>\n",
              "      <td>RED WOOLLY HOTTIE WHITE HEART.</td>\n",
              "      <td>6</td>\n",
              "      <td>2010-12-01 08:26:00</td>\n",
              "      <td>3.39</td>\n",
              "      <td>17850.0</td>\n",
              "      <td>United Kingdom</td>\n",
              "    </tr>\n",
              "    <tr>\n",
              "      <th>5</th>\n",
              "      <td>536365</td>\n",
              "      <td>22752</td>\n",
              "      <td>SET 7 BABUSHKA NESTING BOXES</td>\n",
              "      <td>2</td>\n",
              "      <td>2010-12-01 08:26:00</td>\n",
              "      <td>7.65</td>\n",
              "      <td>17850.0</td>\n",
              "      <td>United Kingdom</td>\n",
              "    </tr>\n",
              "    <tr>\n",
              "      <th>6</th>\n",
              "      <td>536365</td>\n",
              "      <td>21730</td>\n",
              "      <td>GLASS STAR FROSTED T-LIGHT HOLDER</td>\n",
              "      <td>6</td>\n",
              "      <td>2010-12-01 08:26:00</td>\n",
              "      <td>4.25</td>\n",
              "      <td>17850.0</td>\n",
              "      <td>United Kingdom</td>\n",
              "    </tr>\n",
              "    <tr>\n",
              "      <th>7</th>\n",
              "      <td>536366</td>\n",
              "      <td>22633</td>\n",
              "      <td>HAND WARMER UNION JACK</td>\n",
              "      <td>6</td>\n",
              "      <td>2010-12-01 08:28:00</td>\n",
              "      <td>1.85</td>\n",
              "      <td>17850.0</td>\n",
              "      <td>United Kingdom</td>\n",
              "    </tr>\n",
              "    <tr>\n",
              "      <th>8</th>\n",
              "      <td>536366</td>\n",
              "      <td>22632</td>\n",
              "      <td>HAND WARMER RED POLKA DOT</td>\n",
              "      <td>6</td>\n",
              "      <td>2010-12-01 08:28:00</td>\n",
              "      <td>1.85</td>\n",
              "      <td>17850.0</td>\n",
              "      <td>United Kingdom</td>\n",
              "    </tr>\n",
              "    <tr>\n",
              "      <th>9</th>\n",
              "      <td>536367</td>\n",
              "      <td>84879</td>\n",
              "      <td>ASSORTED COLOUR BIRD ORNAMENT</td>\n",
              "      <td>32</td>\n",
              "      <td>2010-12-01 08:34:00</td>\n",
              "      <td>1.69</td>\n",
              "      <td>13047.0</td>\n",
              "      <td>United Kingdom</td>\n",
              "    </tr>\n",
              "  </tbody>\n",
              "</table>\n",
              "</div>"
            ],
            "text/plain": [
              "  InvoiceNo StockCode                          Description  Quantity  \\\n",
              "0  536365    85123A    WHITE HANGING HEART T-LIGHT HOLDER   6          \n",
              "1  536365    71053     WHITE METAL LANTERN                  6          \n",
              "2  536365    84406B    CREAM CUPID HEARTS COAT HANGER       8          \n",
              "3  536365    84029G    KNITTED UNION FLAG HOT WATER BOTTLE  6          \n",
              "4  536365    84029E    RED WOOLLY HOTTIE WHITE HEART.       6          \n",
              "5  536365    22752     SET 7 BABUSHKA NESTING BOXES         2          \n",
              "6  536365    21730     GLASS STAR FROSTED T-LIGHT HOLDER    6          \n",
              "7  536366    22633     HAND WARMER UNION JACK               6          \n",
              "8  536366    22632     HAND WARMER RED POLKA DOT            6          \n",
              "9  536367    84879     ASSORTED COLOUR BIRD ORNAMENT        32         \n",
              "\n",
              "          InvoiceDate  UnitPrice  CustomerID         Country  \n",
              "0 2010-12-01 08:26:00  2.55       17850.0     United Kingdom  \n",
              "1 2010-12-01 08:26:00  3.39       17850.0     United Kingdom  \n",
              "2 2010-12-01 08:26:00  2.75       17850.0     United Kingdom  \n",
              "3 2010-12-01 08:26:00  3.39       17850.0     United Kingdom  \n",
              "4 2010-12-01 08:26:00  3.39       17850.0     United Kingdom  \n",
              "5 2010-12-01 08:26:00  7.65       17850.0     United Kingdom  \n",
              "6 2010-12-01 08:26:00  4.25       17850.0     United Kingdom  \n",
              "7 2010-12-01 08:28:00  1.85       17850.0     United Kingdom  \n",
              "8 2010-12-01 08:28:00  1.85       17850.0     United Kingdom  \n",
              "9 2010-12-01 08:34:00  1.69       13047.0     United Kingdom  "
            ]
          },
          "execution_count": 70,
          "metadata": {
            "tags": []
          },
          "output_type": "execute_result"
        }
      ],
      "source": [
        "url = 'https://github.com/tomytjandra/word2vec-embeddings/blob/master/dataset/Online%20Retail.xlsx?raw=true'\n",
        "retail = pd.read_excel(url)\n",
        "retail.head(10)"
      ]
    },
    {
      "cell_type": "markdown",
      "metadata": {
        "id": "2yFjFCbfavXj"
      },
      "source": [
        "### Column Description"
      ]
    },
    {
      "cell_type": "code",
      "execution_count": null,
      "metadata": {
        "colab": {
          "base_uri": "https://localhost:8080/",
          "height": 294
        },
        "id": "Ggtb70pZhS2T",
        "outputId": "9010b2c7-3601-4469-ffbd-0bb09e0f0c41"
      },
      "outputs": [
        {
          "name": "stdout",
          "output_type": "stream",
          "text": [
            "<class 'pandas.core.frame.DataFrame'>\n",
            "RangeIndex: 541909 entries, 0 to 541908\n",
            "Data columns (total 8 columns):\n",
            " #   Column       Non-Null Count   Dtype         \n",
            "---  ------       --------------   -----         \n",
            " 0   InvoiceNo    541909 non-null  object        \n",
            " 1   StockCode    541909 non-null  object        \n",
            " 2   Description  540455 non-null  object        \n",
            " 3   Quantity     541909 non-null  int64         \n",
            " 4   InvoiceDate  541909 non-null  datetime64[ns]\n",
            " 5   UnitPrice    541909 non-null  float64       \n",
            " 6   CustomerID   406829 non-null  float64       \n",
            " 7   Country      541909 non-null  object        \n",
            "dtypes: datetime64[ns](1), float64(2), int64(1), object(4)\n",
            "memory usage: 33.1+ MB\n"
          ]
        }
      ],
      "source": [
        "retail.info()"
      ]
    },
    {
      "cell_type": "markdown",
      "metadata": {
        "id": "AJiSBks2iAnN"
      },
      "source": [
        "The dataset contains 541909 transactions. That is a pretty good number for us to build our model. Here is the description of the fields in this dataset:\n",
        "\n",
        "1. `InvoiceNo`: Invoice number. a unique number assigned to each transaction\n",
        "2. **`StockCode`: Product/item code. a unique number assigned to each distinct product**\n",
        "3. **`Description`: Product name**\n",
        "4. `Quantity`: The quantities of each product per transaction\n",
        "5. `InvoiceDate`: Invoice Date and time. The day and time when each transaction was generated\n",
        "6. `UnitPrice`: Price of each unit product\n",
        "7. **`CustomerID`: Customer number. a unique number assigned to each customer**\n",
        "8. `Country`: The country where each transaction was generated"
      ]
    },
    {
      "cell_type": "markdown",
      "metadata": {
        "id": "Hb45wRUCaERO"
      },
      "source": [
        "### Check Date\n",
        "\n",
        "Check whether `InvoiceDate` has been sorted increasingly or not."
      ]
    },
    {
      "cell_type": "code",
      "execution_count": null,
      "metadata": {
        "colab": {
          "base_uri": "https://localhost:8080/",
          "height": 35
        },
        "id": "71n-ZnRiaJb5",
        "outputId": "60437af1-81d3-4473-a4da-0564f070ad50"
      },
      "outputs": [
        {
          "data": {
            "text/plain": [
              "True"
            ]
          },
          "execution_count": 72,
          "metadata": {
            "tags": []
          },
          "output_type": "execute_result"
        }
      ],
      "source": [
        "retail[\"InvoiceDate\"].is_monotonic_increasing"
      ]
    },
    {
      "cell_type": "markdown",
      "metadata": {
        "id": "hHA-bY_HtY90"
      },
      "source": [
        "# Data Preparation"
      ]
    },
    {
      "cell_type": "markdown",
      "metadata": {
        "id": "3tI043N9jn0A"
      },
      "source": [
        "## Missing Values\n",
        "\n",
        "Check for missing values"
      ]
    },
    {
      "cell_type": "code",
      "execution_count": null,
      "metadata": {
        "colab": {
          "base_uri": "https://localhost:8080/",
          "height": 183
        },
        "id": "hsHLv56ZidXj",
        "outputId": "22e3c5e7-1572-433b-e340-3b062b4818bf"
      },
      "outputs": [
        {
          "data": {
            "text/plain": [
              "InvoiceNo      0     \n",
              "StockCode      0     \n",
              "Description    1454  \n",
              "Quantity       0     \n",
              "InvoiceDate    0     \n",
              "UnitPrice      0     \n",
              "CustomerID     135080\n",
              "Country        0     \n",
              "dtype: int64"
            ]
          },
          "execution_count": 73,
          "metadata": {
            "tags": []
          },
          "output_type": "execute_result"
        }
      ],
      "source": [
        "retail.isnull().sum()"
      ]
    },
    {
      "cell_type": "markdown",
      "metadata": {
        "id": "T_8WD-iWjuCp"
      },
      "source": [
        "Since we have sufficient data, we will **drop all the rows** with missing values."
      ]
    },
    {
      "cell_type": "code",
      "execution_count": null,
      "metadata": {
        "id": "hUkYPRfYiEns"
      },
      "outputs": [],
      "source": [
        "retail.dropna(inplace=True)"
      ]
    },
    {
      "cell_type": "markdown",
      "metadata": {
        "id": "SaQe14xvtt1M"
      },
      "source": [
        "## Data Type Conversion"
      ]
    },
    {
      "cell_type": "code",
      "execution_count": null,
      "metadata": {
        "colab": {
          "base_uri": "https://localhost:8080/",
          "height": 183
        },
        "id": "2GiY2GIytxwa",
        "outputId": "579dd889-09b5-4f53-a085-d9ce1c19dc78"
      },
      "outputs": [
        {
          "data": {
            "text/plain": [
              "InvoiceNo      object        \n",
              "StockCode      object        \n",
              "Description    object        \n",
              "Quantity       int64         \n",
              "InvoiceDate    datetime64[ns]\n",
              "UnitPrice      float64       \n",
              "CustomerID     float64       \n",
              "Country        object        \n",
              "dtype: object"
            ]
          },
          "execution_count": 75,
          "metadata": {
            "tags": []
          },
          "output_type": "execute_result"
        }
      ],
      "source": [
        "retail.dtypes"
      ]
    },
    {
      "cell_type": "code",
      "execution_count": null,
      "metadata": {
        "id": "YSJ4mfr5t1h5"
      },
      "outputs": [],
      "source": [
        "retail[\"CustomerID\"] = retail[\"CustomerID\"].astype(int)\n",
        "retail[[\"InvoiceNo\", \"StockCode\", \"Description\", \"CustomerID\"]] = retail[[\"InvoiceNo\", \"StockCode\", \"Description\", \"CustomerID\"]].astype(str)\n",
        "retail[\"Country\"] = retail[\"Country\"].astype(\"category\")"
      ]
    },
    {
      "cell_type": "code",
      "execution_count": null,
      "metadata": {
        "colab": {
          "base_uri": "https://localhost:8080/",
          "height": 183
        },
        "id": "IIXHV19TttbW",
        "outputId": "7745053e-6f91-43c9-cfe2-3d42b9eedbea"
      },
      "outputs": [
        {
          "data": {
            "text/plain": [
              "InvoiceNo      object        \n",
              "StockCode      object        \n",
              "Description    object        \n",
              "Quantity       int64         \n",
              "InvoiceDate    datetime64[ns]\n",
              "UnitPrice      float64       \n",
              "CustomerID     object        \n",
              "Country        category      \n",
              "dtype: object"
            ]
          },
          "execution_count": 77,
          "metadata": {
            "tags": []
          },
          "output_type": "execute_result"
        }
      ],
      "source": [
        "retail.dtypes"
      ]
    },
    {
      "cell_type": "markdown",
      "metadata": {
        "id": "mTPDtETdzq87"
      },
      "source": [
        "## Remove Leading and Trailing Whitespace\n",
        "\n",
        "Some of the product description have leading and trailing whitespace as shown below:"
      ]
    },
    {
      "cell_type": "code",
      "execution_count": null,
      "metadata": {
        "colab": {
          "base_uri": "https://localhost:8080/",
          "height": 91
        },
        "id": "r4ONfJuuz0YL",
        "outputId": "9bccca7c-db2c-4a2c-e7a1-67af3fa77b5b"
      },
      "outputs": [
        {
          "data": {
            "text/plain": [
              "array(['WHITE HANGING HEART T-LIGHT HOLDER', 'WHITE METAL LANTERN',\n",
              "       'CREAM CUPID HEARTS COAT HANGER', ...,\n",
              "       'CHILDRENS CUTLERY DOLLY GIRL ', 'CHILDRENS CUTLERY CIRCUS PARADE',\n",
              "       'BAKING SET 9 PIECE RETROSPOT '], dtype=object)"
            ]
          },
          "execution_count": 79,
          "metadata": {
            "tags": []
          },
          "output_type": "execute_result"
        }
      ],
      "source": [
        "retail[\"Description\"].values"
      ]
    },
    {
      "cell_type": "markdown",
      "metadata": {
        "id": "wFZnnZ2Z0ZEY"
      },
      "source": [
        "Let's remove it:"
      ]
    },
    {
      "cell_type": "code",
      "execution_count": null,
      "metadata": {
        "colab": {
          "base_uri": "https://localhost:8080/",
          "height": 91
        },
        "id": "l9Gby8970IQa",
        "outputId": "4dc6f184-998d-4af3-a96a-ee318634de6c"
      },
      "outputs": [
        {
          "data": {
            "text/plain": [
              "array(['WHITE HANGING HEART T-LIGHT HOLDER', 'WHITE METAL LANTERN',\n",
              "       'CREAM CUPID HEARTS COAT HANGER', ...,\n",
              "       'CHILDRENS CUTLERY DOLLY GIRL', 'CHILDRENS CUTLERY CIRCUS PARADE',\n",
              "       'BAKING SET 9 PIECE RETROSPOT'], dtype=object)"
            ]
          },
          "execution_count": 80,
          "metadata": {
            "tags": []
          },
          "output_type": "execute_result"
        }
      ],
      "source": [
        "retail[\"Description\"] = retail[\"Description\"].str.strip()\n",
        "retail[\"Description\"].values"
      ]
    },
    {
      "cell_type": "markdown",
      "metadata": {
        "id": "o9zG6vipyk7Z"
      },
      "source": [
        "## Splitting Data\n",
        "\n",
        "There are 4372 unique customers in our dataset. For each of these customers, we will extract their buying history. In other words, we can have 4372 sequences of purchases."
      ]
    },
    {
      "cell_type": "code",
      "execution_count": null,
      "metadata": {
        "colab": {
          "base_uri": "https://localhost:8080/",
          "height": 35
        },
        "id": "AHCEkMCZyhow",
        "outputId": "97dd0cf0-8d7a-4d6b-8c3c-c8353af7cadb"
      },
      "outputs": [
        {
          "data": {
            "text/plain": [
              "4372"
            ]
          },
          "execution_count": 78,
          "metadata": {
            "tags": []
          },
          "output_type": "execute_result"
        }
      ],
      "source": [
        "customers = retail[\"CustomerID\"].unique().tolist()\n",
        "len(customers)"
      ]
    },
    {
      "cell_type": "markdown",
      "metadata": {
        "id": "adtwdn4eyzPd"
      },
      "source": [
        "\n",
        "It is a good practice to set aside a small part of the dataset for validation purposes. Therefore, we will use the data of **95% of the customers** to create word2vec embeddings. Let’s split the data."
      ]
    },
    {
      "cell_type": "code",
      "execution_count": null,
      "metadata": {
        "colab": {
          "base_uri": "https://localhost:8080/",
          "height": 91
        },
        "id": "Wyx578wYTfC7",
        "outputId": "30a01e78-b54e-47c2-a302-9368989cd8a0"
      },
      "outputs": [
        {
          "name": "stdout",
          "output_type": "stream",
          "text": [
            "No. of Customers in Training Data: 4153\n",
            "Dim. of Purchases in Training Data: (390857, 8)\n",
            "No. of Customers in Validation Data: 219\n",
            "Dim. of Purchases in Validation Data: (15972, 8)\n"
          ]
        }
      ],
      "source": [
        "# collapse-hide\n",
        "customers_train, customers_val = train_test_split(customers, train_size=0.95, shuffle=True, random_state=123)\n",
        "\n",
        "retail_train = retail[retail[\"CustomerID\"].isin(customers_train)]\n",
        "retail_val = retail[retail[\"CustomerID\"].isin(customers_val)]\n",
        "\n",
        "print(\"No. of Customers in Training Data:\", len(customers_train))\n",
        "print(\"Dim. of Purchases in Training Data:\", retail_train.shape)\n",
        "print(\"No. of Customers in Validation Data:\", len(customers_val))\n",
        "print(\"Dim. of Purchases in Validation Data:\", retail_val.shape)"
      ]
    },
    {
      "cell_type": "markdown",
      "metadata": {
        "id": "24kISaQc_xzg"
      },
      "source": [
        "## List of Purchases\n",
        "\n",
        "We will create sequences of purchases made by the customers in the dataset for both the train and validation set."
      ]
    },
    {
      "cell_type": "code",
      "execution_count": null,
      "metadata": {
        "id": "6FSBhNIcSV3S"
      },
      "outputs": [],
      "source": [
        "# collapse-hide\n",
        "def purchasesList(df):\n",
        "    purchases_list = []\n",
        "\n",
        "    customers_list = df['CustomerID'].unique()\n",
        "    for customer in tqdm(customers_list):\n",
        "        customer_purchases_list = df[df[\"CustomerID\"]\n",
        "                                     == customer][\"StockCode\"].tolist()\n",
        "        purchases_list.append(customer_purchases_list)\n",
        "\n",
        "    return purchases_list"
      ]
    },
    {
      "cell_type": "code",
      "execution_count": null,
      "metadata": {
        "colab": {
          "base_uri": "https://localhost:8080/",
          "height": 54
        },
        "id": "22NoGKzA_zwP",
        "outputId": "e0e520f5-6d87-4a0f-e93a-83bce1114179"
      },
      "outputs": [
        {
          "name": "stderr",
          "output_type": "stream",
          "text": [
            "100%|██████████| 4153/4153 [01:31<00:00, 45.22it/s]\n",
            "100%|██████████| 219/219 [00:00<00:00, 472.04it/s]\n"
          ]
        }
      ],
      "source": [
        "# list to capture purchase history of the customers\n",
        "purchases_train = purchasesList(retail_train)\n",
        "purchases_val = purchasesList(retail_val)"
      ]
    },
    {
      "cell_type": "markdown",
      "metadata": {
        "id": "KjPtIkWmVXOt"
      },
      "source": [
        "# Word2Vec Embeddings\n",
        "\n",
        "Let's prepare a `Callback` to print loss after each epoch."
      ]
    },
    {
      "cell_type": "code",
      "execution_count": null,
      "metadata": {
        "id": "gd_OptZW3MUa"
      },
      "outputs": [],
      "source": [
        "from gensim.models.callbacks import CallbackAny2Vec\n",
        "\n",
        "class Callback(CallbackAny2Vec):\n",
        "    def __init__(self):\n",
        "        self.epoch = 1\n",
        "\n",
        "    def on_epoch_end(self, model):\n",
        "        loss = model.get_latest_training_loss()\n",
        "        if self.epoch == 1:\n",
        "            print('Loss after epoch {}: {}'.format(self.epoch, loss))\n",
        "        else:\n",
        "            print('Loss after epoch {}: {}'.format(\n",
        "                self.epoch, loss - self.loss_previous_step))\n",
        "        self.epoch += 1\n",
        "        self.loss_previous_step = loss\n"
      ]
    },
    {
      "cell_type": "markdown",
      "metadata": {
        "id": "YcBpI_-pxOF7"
      },
      "source": [
        "## Model Training\n",
        "\n",
        "Step to train the model:\n",
        "\n",
        "1. Initialize the Word2Vec settings\n",
        "2. Build vocabulary from a sequence of sentences\n",
        "3. Update the model’s neural weights from a sequence of sentences"
      ]
    },
    {
      "cell_type": "code",
      "execution_count": null,
      "metadata": {
        "colab": {
          "base_uri": "https://localhost:8080/",
          "height": 220
        },
        "id": "7nnV5XW1Vjtm",
        "outputId": "8da33b85-b93a-4eda-893a-cbfe43dd9f27"
      },
      "outputs": [
        {
          "name": "stdout",
          "output_type": "stream",
          "text": [
            "Loss after epoch 1: 13739012.0\n",
            "Loss after epoch 2: 9969096.0\n",
            "Loss after epoch 3: 9610266.0\n",
            "Loss after epoch 4: 11308194.0\n",
            "Loss after epoch 5: 11223612.0\n",
            "Loss after epoch 6: 11192972.0\n",
            "Loss after epoch 7: 963048.0\n",
            "Loss after epoch 8: 878904.0\n",
            "Loss after epoch 9: 845232.0\n",
            "Loss after epoch 10: 814056.0\n"
          ]
        },
        {
          "data": {
            "text/plain": [
              "(3869966, 3908570)"
            ]
          },
          "execution_count": 85,
          "metadata": {
            "tags": []
          },
          "output_type": "execute_result"
        }
      ],
      "source": [
        "# STEP 1\n",
        "model = Word2Vec(\n",
        "    size=100,  # dimensionality of the word vectors\n",
        "    window=10,  # max distance between context and target word\n",
        "    min_count=5,  # frequency cut-off\n",
        "    sg=1,  # using skip-gram\n",
        "    hs=0,  # no hierarchical softmax (default)\n",
        "    negative=15,  # negative sampling data\n",
        "    alpha=0.005,  # learning rate\n",
        "    seed=123,  # reproducibility\n",
        "    workers=1)\n",
        "\n",
        "# STEP 2\n",
        "model.build_vocab(purchases_train)\n",
        "\n",
        "# STEP 3\n",
        "callback = Callback()\n",
        "model.train(purchases_train,\n",
        "            total_examples=model.corpus_count,  # count of sentences\n",
        "            epochs=10,  # number of iterations over the corpus\n",
        "            compute_loss=True,  # to track model loss\n",
        "            callbacks=[callback])"
      ]
    },
    {
      "cell_type": "markdown",
      "metadata": {
        "id": "CezeI3CEw5CG"
      },
      "source": [
        "Let’s check out the summary of our `model`:"
      ]
    },
    {
      "cell_type": "code",
      "execution_count": null,
      "metadata": {
        "colab": {
          "base_uri": "https://localhost:8080/",
          "height": 35
        },
        "id": "01XITC8r6-Tp",
        "outputId": "1fdb4b38-2c72-4350-db71-13a8669430fb"
      },
      "outputs": [
        {
          "name": "stdout",
          "output_type": "stream",
          "text": [
            "Word2Vec(vocab=3196, size=100, alpha=0.005)\n"
          ]
        }
      ],
      "source": [
        "model = Word2Vec.load(\"recommender.model\")\n",
        "print(model)"
      ]
    },
    {
      "cell_type": "markdown",
      "metadata": {
        "id": "-tR7loijlXiP"
      },
      "source": [
        "Our model has a vocabulary of **3196 unique products** and their **vectors of size 100** each. Next, we will extract the vectors of all the words in our vocabulary and store it in one place for easy access."
      ]
    },
    {
      "cell_type": "code",
      "execution_count": null,
      "metadata": {
        "colab": {
          "base_uri": "https://localhost:8080/",
          "height": 35
        },
        "id": "87GkBinSlZuz",
        "outputId": "974a0af6-30e7-4b64-b7e4-bb8061f14ba4"
      },
      "outputs": [
        {
          "data": {
            "text/plain": [
              "(3196, 100)"
            ]
          },
          "execution_count": 87,
          "metadata": {
            "tags": []
          },
          "output_type": "execute_result"
        }
      ],
      "source": [
        "# extract all vectors\n",
        "X = model[model.wv.vocab]\n",
        "X.shape"
      ]
    },
    {
      "cell_type": "markdown",
      "metadata": {
        "id": "IijnXzd1ly5o"
      },
      "source": [
        "## Visualize Word2Vec\n",
        "\n",
        "It is always quite helpful to visualize the embeddings that you have created. Over here, we have 100-dimensional embeddings. We can’t even visualize 4 dimensions let alone 100. What in the world can we do?\n",
        "\n",
        "We are going to reduce the dimensions of the product embeddings from 100 to 2 by using various dimensionality reduction algorithm:\n",
        "\n",
        "1. Principal Component Analysis (PCA)\n",
        "2. t-Distributed Stochastic Neighbor Embedding (t-SNE)\n",
        "3. Uniform Manifold Approximation and Projection (UMAP)"
      ]
    },
    {
      "cell_type": "code",
      "execution_count": null,
      "metadata": {
        "colab": {
          "base_uri": "https://localhost:8080/",
          "height": 407
        },
        "id": "4gWERwn7shr_",
        "outputId": "1d4c4ff3-b1dd-4d7c-ac8f-e3417f7bbb1b"
      },
      "outputs": [
        {
          "data": {
            "image/png": "[encoded data removed]",
            "text/plain": [
              "<Figure size 1080x360 with 3 Axes>"
            ]
          },
          "metadata": {
            "tags": []
          },
          "output_type": "display_data"
        }
      ],
      "source": [
        "# collapse-hide\n",
        "from sklearn.decomposition import PCA\n",
        "from sklearn.manifold import TSNE\n",
        "from umap import UMAP\n",
        "\n",
        "X_pca = PCA(n_components=2).fit_transform(X)\n",
        "X_tsne = TSNE(n_components=2, random_state=123).fit_transform(X)\n",
        "X_umap = UMAP(n_components=2, random_state=123).fit_transform(X)\n",
        "\n",
        "fig, axes = plt.subplots(1, 3, figsize=(15, 5))\n",
        "fig.patch.set_facecolor(\"white\")\n",
        "\n",
        "for ax, X_reduced, title in zip(axes, [X_pca, X_tsne, X_umap], [\"PCA\", \"t-SNE\", \"UMAP\"]):\n",
        "    ax.scatter(X_reduced[:, 0], X_reduced[:, 1], s=1)\n",
        "    ax.axis(\"off\")\n",
        "    ax.set_title(title, fontsize=15)\n",
        "\n",
        "plt.tight_layout()\n",
        "fig.suptitle(\"WORD2VEC REDUCED DIMENSIONALITY\",\n",
        "             size=25, y=1.075, fontweight=\"bold\")\n",
        "plt.show()"
      ]
    },
    {
      "cell_type": "markdown",
      "metadata": {
        "id": "9vjO2U0xmXUB"
      },
      "source": [
        "# Start Recommending Products\n",
        "\n",
        "Congratulations! We are finally ready with the word2vec embeddings for every product in our online retail dataset. Now, our next step is to suggest similar products for a certain product or a product’s vector.\n",
        "\n",
        "Let’s first create a dictionary to easily map a product’s `Description` to its `StockCode` and vice versa."
      ]
    },
    {
      "cell_type": "code",
      "execution_count": null,
      "metadata": {
        "colab": {
          "base_uri": "https://localhost:8080/",
          "height": 112
        },
        "id": "uSs99_LJmhTt",
        "outputId": "15fb209f-0365-4d4c-9fa5-27e3efa6c9e5"
      },
      "outputs": [
        {
          "data": {
            "text/html": [
              "<div>\n",
              "<style scoped>\n",
              "    .dataframe tbody tr th:only-of-type {\n",
              "        vertical-align: middle;\n",
              "    }\n",
              "\n",
              "    .dataframe tbody tr th {\n",
              "        vertical-align: top;\n",
              "    }\n",
              "\n",
              "    .dataframe thead th {\n",
              "        text-align: right;\n",
              "    }\n",
              "</style>\n",
              "<table border=\"1\" class=\"dataframe\">\n",
              "  <thead>\n",
              "    <tr style=\"text-align: right;\">\n",
              "      <th></th>\n",
              "      <th>StockCode</th>\n",
              "      <th>Description</th>\n",
              "    </tr>\n",
              "  </thead>\n",
              "  <tbody>\n",
              "    <tr>\n",
              "      <th>8</th>\n",
              "      <td>22632</td>\n",
              "      <td>HAND WARMER RED POLKA DOT</td>\n",
              "    </tr>\n",
              "    <tr>\n",
              "      <th>257</th>\n",
              "      <td>22632</td>\n",
              "      <td>HAND WARMER RED RETROSPOT</td>\n",
              "    </tr>\n",
              "  </tbody>\n",
              "</table>\n",
              "</div>"
            ],
            "text/plain": [
              "    StockCode                Description\n",
              "8    22632     HAND WARMER RED POLKA DOT\n",
              "257  22632     HAND WARMER RED RETROSPOT"
            ]
          },
          "execution_count": 90,
          "metadata": {
            "tags": []
          },
          "output_type": "execute_result"
        }
      ],
      "source": [
        "products = retail[[\"StockCode\", \"Description\"]]\n",
        "\n",
        "# example of duplicates\n",
        "products[products[\"StockCode\"] == \"22632\"].drop_duplicates()"
      ]
    },
    {
      "cell_type": "code",
      "execution_count": null,
      "metadata": {
        "colab": {
          "base_uri": "https://localhost:8080/",
          "height": 387
        },
        "id": "3_-lplzznvUS",
        "outputId": "a160a47c-20a0-4dc3-ec32-696cd9de74ce"
      },
      "outputs": [
        {
          "data": {
            "text/plain": [
              "{'16161M': 'WRAP  PINK FLOCK',\n",
              " '20878': 'SET/9 CHRISTMAS T-LIGHTS SCENTED',\n",
              " '20957': 'PORCELAIN HANGING BELL SMALL',\n",
              " '21268': 'VINTAGE BLUE TINSEL REEL',\n",
              " '21486': 'PINK HEART DOTS HOT WATER BOTTLE',\n",
              " '21488': 'RED WHITE SCARF  HOT WATER BOTTLE',\n",
              " '21895': \"POTTING SHED SOW 'N' GROW SET\",\n",
              " '22275': 'WEEKEND BAG VINTAGE ROSE PAISLEY',\n",
              " '35271S': 'GOLD PRINT PAPER BAG',\n",
              " '37461': 'FUNKY MONKEY MUG',\n",
              " '47503J': 'SET/3 FLORAL GARDEN TOOLS IN BAG',\n",
              " '47579': 'TEA TIME BREAKFAST BASKET',\n",
              " '82615': 'PINK MARSHMALLOW SCARF KNITTING KIT',\n",
              " '84614A': 'PINK BAROQUE FLOCK CANDLE HOLDER',\n",
              " '84773': 'RED ROSE AND LACE C/COVER',\n",
              " '84854': 'GIRLY PINK TOOL SET',\n",
              " '84963A': 'PINK PAINTED KASHMIRI CHAIR',\n",
              " '90128B': 'BLUE LEAVES AND BEADS PHONE CHARM',\n",
              " '90152B': 'BLUE/GREEN SHELL NECKLACE W PENDANT',\n",
              " '90167': 'BEADED LOVE HEART JEWELLERY SET'}"
            ]
          },
          "execution_count": 91,
          "metadata": {
            "tags": []
          },
          "output_type": "execute_result"
        }
      ],
      "source": [
        "# remove duplicates\n",
        "products.drop_duplicates(subset=\"StockCode\", keep=\"last\", inplace=True)\n",
        "\n",
        "# create a dictionary for mapping\n",
        "code_to_name = pd.Series(products[\"Description\"].values, index=products[\"StockCode\"]).to_dict()\n",
        "name_to_code = pd.Series(products[\"StockCode\"].values, index=products[\"Description\"]).to_dict()\n",
        "dict(list(code_to_name.items())[:20])"
      ]
    },
    {
      "cell_type": "markdown",
      "metadata": {
        "id": "rxorh2JJp431"
      },
      "source": [
        "## Case 1: Recommendation based on last bought product\n",
        "\n",
        "I have defined the function below. It will take a product's `StockCode` as input and return top `n` similar products."
      ]
    },
    {
      "cell_type": "code",
      "execution_count": null,
      "metadata": {
        "id": "LDQldbcAqnc8"
      },
      "outputs": [],
      "source": [
        "def similarProductsByVector(vec, n=10):\n",
        "\n",
        "    # extract most similar products for the input vector\n",
        "    similar_products = model.wv.similar_by_vector(vec, topn=n)\n",
        "\n",
        "    # extract name and similarity score of the similar products\n",
        "    product_list = []\n",
        "    for prod, sim in similar_products:\n",
        "        product_list.append((code_to_name[prod], sim))\n",
        "\n",
        "    return product_list"
      ]
    },
    {
      "cell_type": "markdown",
      "metadata": {
        "id": "dVI-oudLNW6P"
      },
      "source": [
        "Let's try out our function by passing the `StockCode` \"90019A\" ('SILVER M.O.P ORBIT BRACELET')"
      ]
    },
    {
      "cell_type": "code",
      "execution_count": null,
      "metadata": {
        "colab": {
          "base_uri": "https://localhost:8080/"
        },
        "id": "_j-HVqc-IceP",
        "outputId": "041f252e-dcda-434a-9cd4-e71db366b47e"
      },
      "outputs": [
        {
          "data": {
            "text/plain": [
              "'SILVER M.O.P ORBIT BRACELET'"
            ]
          },
          "execution_count": 93,
          "metadata": {
            "tags": []
          },
          "output_type": "execute_result"
        }
      ],
      "source": [
        "code_to_name[\"90019A\"]"
      ]
    },
    {
      "cell_type": "code",
      "execution_count": null,
      "metadata": {
        "colab": {
          "base_uri": "https://localhost:8080/"
        },
        "id": "f0M6YtbQIp1k",
        "outputId": "b9b6e07c-30ab-4c98-a9d8-55cc5c833ecd"
      },
      "outputs": [
        {
          "data": {
            "text/plain": [
              "[('SILVER M.O.P ORBIT BRACELET', 1.0),\n",
              " ('PINK ROSEBUD PEARL BRACELET', 0.988038182258606),\n",
              " ('SILVER ROCCOCO CHANDELIER', 0.986005425453186),\n",
              " ('MIDNIGHT BLUE GLASS/SILVER BRACELET', 0.9858831167221069),\n",
              " ('ANT COPPER RED BOUDICCA BRACELET', 0.9858506321907043),\n",
              " ('SOFT PINK ROSE TOWEL', 0.983485221862793),\n",
              " ('WHITE VINT ART DECO CRYSTAL NECKLAC', 0.9819661378860474),\n",
              " ('MIRROR MOSAIC CANDLE PLATE', 0.9817532300949097),\n",
              " ('WOVEN BUBBLE GUM CUSHION COVER', 0.981330156326294),\n",
              " ('CRYSTAL PAIR HEART HAIR SLIDES', 0.9808048009872437)]"
            ]
          },
          "execution_count": 94,
          "metadata": {
            "tags": []
          },
          "output_type": "execute_result"
        }
      ],
      "source": [
        "similarProductsByVector(model[\"90019A\"])"
      ]
    },
    {
      "cell_type": "markdown",
      "metadata": {
        "id": "cYZmEqakNjup"
      },
      "source": [
        "Identify **last bought products** for each `CustomerID` and recommend them 3 other similar products.\n"
      ]
    },
    {
      "cell_type": "code",
      "execution_count": null,
      "metadata": {
        "colab": {
          "base_uri": "https://localhost:8080/"
        },
        "id": "lTNEfPmlMzLt",
        "outputId": "c55b7424-03ed-4b4d-abe7-3094186d037e"
      },
      "outputs": [
        {
          "data": {
            "text/html": [
              "<div>\n",
              "<style scoped>\n",
              "    .dataframe tbody tr th:only-of-type {\n",
              "        vertical-align: middle;\n",
              "    }\n",
              "\n",
              "    .dataframe tbody tr th {\n",
              "        vertical-align: top;\n",
              "    }\n",
              "\n",
              "    .dataframe thead th {\n",
              "        text-align: right;\n",
              "    }\n",
              "</style>\n",
              "<table border=\"1\" class=\"dataframe\">\n",
              "  <thead>\n",
              "    <tr style=\"text-align: right;\">\n",
              "      <th></th>\n",
              "      <th>InvoiceNo</th>\n",
              "      <th>StockCode</th>\n",
              "      <th>Description</th>\n",
              "      <th>Quantity</th>\n",
              "      <th>InvoiceDate</th>\n",
              "      <th>UnitPrice</th>\n",
              "      <th>CustomerID</th>\n",
              "      <th>Country</th>\n",
              "    </tr>\n",
              "  </thead>\n",
              "  <tbody>\n",
              "    <tr>\n",
              "      <th>6352</th>\n",
              "      <td>536884</td>\n",
              "      <td>48185</td>\n",
              "      <td>DOORMAT FAIRY CAKE</td>\n",
              "      <td>1</td>\n",
              "      <td>2010-12-03 11:42:00</td>\n",
              "      <td>7.95</td>\n",
              "      <td>14589</td>\n",
              "      <td>United Kingdom</td>\n",
              "    </tr>\n",
              "    <tr>\n",
              "      <th>19025</th>\n",
              "      <td>537827</td>\n",
              "      <td>22145</td>\n",
              "      <td>CHRISTMAS CRAFT HEART STOCKING</td>\n",
              "      <td>30</td>\n",
              "      <td>2010-12-08 14:43:00</td>\n",
              "      <td>2.10</td>\n",
              "      <td>15332</td>\n",
              "      <td>Lithuania</td>\n",
              "    </tr>\n",
              "    <tr>\n",
              "      <th>21696</th>\n",
              "      <td>538108</td>\n",
              "      <td>20676</td>\n",
              "      <td>RED RETROSPOT BOWL</td>\n",
              "      <td>8</td>\n",
              "      <td>2010-12-09 15:23:00</td>\n",
              "      <td>1.25</td>\n",
              "      <td>17456</td>\n",
              "      <td>United Kingdom</td>\n",
              "    </tr>\n",
              "    <tr>\n",
              "      <th>23212</th>\n",
              "      <td>538184</td>\n",
              "      <td>22904</td>\n",
              "      <td>CALENDAR PAPER CUT DESIGN</td>\n",
              "      <td>6</td>\n",
              "      <td>2010-12-10 10:21:00</td>\n",
              "      <td>2.95</td>\n",
              "      <td>17880</td>\n",
              "      <td>United Kingdom</td>\n",
              "    </tr>\n",
              "    <tr>\n",
              "      <th>25079</th>\n",
              "      <td>538352</td>\n",
              "      <td>51008</td>\n",
              "      <td>AFGHAN SLIPPER SOCK PAIR</td>\n",
              "      <td>40</td>\n",
              "      <td>2010-12-10 15:21:00</td>\n",
              "      <td>3.45</td>\n",
              "      <td>16565</td>\n",
              "      <td>United Kingdom</td>\n",
              "    </tr>\n",
              "  </tbody>\n",
              "</table>\n",
              "</div>"
            ],
            "text/plain": [
              "      InvoiceNo StockCode                     Description  Quantity  \\\n",
              "6352   536884    48185     DOORMAT FAIRY CAKE              1          \n",
              "19025  537827    22145     CHRISTMAS CRAFT HEART STOCKING  30         \n",
              "21696  538108    20676     RED RETROSPOT BOWL              8          \n",
              "23212  538184    22904     CALENDAR PAPER CUT DESIGN       6          \n",
              "25079  538352    51008     AFGHAN SLIPPER SOCK PAIR        40         \n",
              "\n",
              "              InvoiceDate  UnitPrice CustomerID         Country  \n",
              "6352  2010-12-03 11:42:00  7.95       14589      United Kingdom  \n",
              "19025 2010-12-08 14:43:00  2.10       15332      Lithuania       \n",
              "21696 2010-12-09 15:23:00  1.25       17456      United Kingdom  \n",
              "23212 2010-12-10 10:21:00  2.95       17880      United Kingdom  \n",
              "25079 2010-12-10 15:21:00  3.45       16565      United Kingdom  "
            ]
          },
          "execution_count": 95,
          "metadata": {
            "tags": []
          },
          "output_type": "execute_result"
        }
      ],
      "source": [
        "last_bought = retail_val.drop_duplicates(subset=\"CustomerID\", keep=\"last\")\n",
        "last_bought.head()"
      ]
    },
    {
      "cell_type": "code",
      "execution_count": null,
      "metadata": {
        "colab": {
          "base_uri": "https://localhost:8080/"
        },
        "id": "GCGg657NOQ2U",
        "outputId": "b958e235-2807-40b1-ceb2-5f7aecc3070e"
      },
      "outputs": [
        {
          "data": {
            "text/html": [
              "<div>\n",
              "<style scoped>\n",
              "    .dataframe tbody tr th:only-of-type {\n",
              "        vertical-align: middle;\n",
              "    }\n",
              "\n",
              "    .dataframe tbody tr th {\n",
              "        vertical-align: top;\n",
              "    }\n",
              "\n",
              "    .dataframe thead th {\n",
              "        text-align: right;\n",
              "    }\n",
              "</style>\n",
              "<table border=\"1\" class=\"dataframe\">\n",
              "  <thead>\n",
              "    <tr style=\"text-align: right;\">\n",
              "      <th></th>\n",
              "      <th>CustomerID</th>\n",
              "      <th>Last Bought Product</th>\n",
              "      <th>Recommended Products</th>\n",
              "    </tr>\n",
              "  </thead>\n",
              "  <tbody>\n",
              "    <tr>\n",
              "      <th>204</th>\n",
              "      <td>14282</td>\n",
              "      <td>LUNCH BAG PAISLEY PARK</td>\n",
              "      <td>[LUNCH BAG RED VINTAGE DOILY, JUMBO BAG PAISLEY PARK, VINTAGE DOILY JUMBO BAG RED]</td>\n",
              "    </tr>\n",
              "    <tr>\n",
              "      <th>203</th>\n",
              "      <td>17290</td>\n",
              "      <td>DOORMAT SPOTTY HOME SWEET HOME</td>\n",
              "      <td>[DOORMAT FANCY FONT HOME SWEET HOME, DOORMAT NEW ENGLAND, DOORMAT AIRMAIL]</td>\n",
              "    </tr>\n",
              "    <tr>\n",
              "      <th>31</th>\n",
              "      <td>13723</td>\n",
              "      <td>PICNIC BASKET WICKER SMALL</td>\n",
              "      <td>[PICNIC BASKET WICKER LARGE, CHERRY BLOSSOM DECORATIVE FLASK, ENCHANTED BIRD PLANT CAGE]</td>\n",
              "    </tr>\n",
              "    <tr>\n",
              "      <th>186</th>\n",
              "      <td>16496</td>\n",
              "      <td>YOU'RE CONFUSING ME METAL SIGN</td>\n",
              "      <td>[METAL SIGN NEIGHBOURHOOD WITCH, CHOCOLATE THIS WAY METAL SIGN, COOK WITH WINE METAL SIGN]</td>\n",
              "    </tr>\n",
              "    <tr>\n",
              "      <th>169</th>\n",
              "      <td>15838</td>\n",
              "      <td>HAND WARMER OWL DESIGN</td>\n",
              "      <td>[HAND WARMER SCOTTY DOG DESIGN, HAND WARMER BIRD DESIGN, HAND WARMER RED LOVE HEART]</td>\n",
              "    </tr>\n",
              "  </tbody>\n",
              "</table>\n",
              "</div>"
            ],
            "text/plain": [
              "    CustomerID             Last Bought Product  \\\n",
              "204  14282      LUNCH BAG PAISLEY PARK           \n",
              "203  17290      DOORMAT SPOTTY HOME SWEET HOME   \n",
              "31   13723      PICNIC BASKET WICKER SMALL       \n",
              "186  16496      YOU'RE CONFUSING ME METAL SIGN   \n",
              "169  15838      HAND WARMER OWL DESIGN           \n",
              "\n",
              "                                                                           Recommended Products  \n",
              "204  [LUNCH BAG RED VINTAGE DOILY, JUMBO BAG PAISLEY PARK, VINTAGE DOILY JUMBO BAG RED]          \n",
              "203  [DOORMAT FANCY FONT HOME SWEET HOME, DOORMAT NEW ENGLAND, DOORMAT AIRMAIL]                  \n",
              "31   [PICNIC BASKET WICKER LARGE, CHERRY BLOSSOM DECORATIVE FLASK, ENCHANTED BIRD PLANT CAGE]    \n",
              "186  [METAL SIGN NEIGHBOURHOOD WITCH, CHOCOLATE THIS WAY METAL SIGN, COOK WITH WINE METAL SIGN]  \n",
              "169  [HAND WARMER SCOTTY DOG DESIGN, HAND WARMER BIRD DESIGN, HAND WARMER RED LOVE HEART]        "
            ]
          },
          "execution_count": 96,
          "metadata": {
            "tags": []
          },
          "output_type": "execute_result"
        }
      ],
      "source": [
        "# collapse-hide\n",
        "recommendation_df = []\n",
        "for idx, s in last_bought.iterrows():\n",
        "    temp_dict = {}\n",
        "    temp_dict[\"CustomerID\"] = s[\"CustomerID\"]\n",
        "    temp_dict[\"Last Bought Product\"] = code_to_name[s[\"StockCode\"]]\n",
        "    try:\n",
        "        temp_dict[\"Recommended Products\"] = np.transpose(\n",
        "            similarProductsByVector(model[s[\"StockCode\"]], n=4))[0][1:]\n",
        "    except KeyError:\n",
        "        continue\n",
        "    recommendation_df.append(temp_dict)\n",
        "\n",
        "pd.DataFrame(recommendation_df).sample(5, random_state=123)"
      ]
    },
    {
      "cell_type": "markdown",
      "metadata": {
        "id": "TLLzVZyvYBoF"
      },
      "source": [
        "Cool! The results are pretty relevant and match well with the input product. However, this output is based on the vector of a single product only. What if we want recommend a user products based on the **multiple purchases** he or she has made in the past?"
      ]
    },
    {
      "cell_type": "markdown",
      "metadata": {
        "id": "q0SLJg8qX86X"
      },
      "source": [
        "## Case 2: Recommendation based on multiple purchases\n",
        "\n",
        "One simple solution is to take **average of all the vectors of the products** he has bought so far and use this resultant vector to find similar products. For that we will use the function below that takes in a list of product ID's and gives out a 100 dimensional vector which is mean of vectors of the products in the input list."
      ]
    },
    {
      "cell_type": "code",
      "execution_count": null,
      "metadata": {
        "id": "mlPiLiaEYNZ7"
      },
      "outputs": [],
      "source": [
        "# collapse-hide\n",
        "def aggregateVectors(products):\n",
        "    product_vec = []\n",
        "    for i in products:\n",
        "        try:\n",
        "            product_vec.append(model[i])\n",
        "        except KeyError:\n",
        "            continue\n",
        "\n",
        "    return np.mean(product_vec, axis=0)"
      ]
    },
    {
      "cell_type": "markdown",
      "metadata": {
        "id": "Er8EdvnGbx2W"
      },
      "source": [
        "If you can recall, we have already created a separate list of purchase sequences for validation purpose. Now let's make use of that."
      ]
    },
    {
      "cell_type": "code",
      "execution_count": null,
      "metadata": {
        "colab": {
          "base_uri": "https://localhost:8080/",
          "height": 35
        },
        "id": "VRdSKw6sb0Dl",
        "outputId": "221770bf-fd5b-40a9-ed91-a20202d17279"
      },
      "outputs": [
        {
          "data": {
            "text/plain": [
              "18"
            ]
          },
          "execution_count": 98,
          "metadata": {
            "tags": []
          },
          "output_type": "execute_result"
        }
      ],
      "source": [
        "len(purchases_val[-1])"
      ]
    },
    {
      "cell_type": "markdown",
      "metadata": {
        "id": "f3xs5_LCb4qZ"
      },
      "source": [
        "The length of the first list of products purchased by a user is 240. We will pass this products' sequence of the validation set to the function aggregate_vectors.\n"
      ]
    },
    {
      "cell_type": "code",
      "execution_count": null,
      "metadata": {
        "colab": {
          "base_uri": "https://localhost:8080/",
          "height": 35
        },
        "id": "m2FNLsY2cG0e",
        "outputId": "be4939ff-a2ff-4a7a-b818-1e695e2ca023"
      },
      "outputs": [
        {
          "data": {
            "text/plain": [
              "(100,)"
            ]
          },
          "execution_count": 99,
          "metadata": {
            "tags": []
          },
          "output_type": "execute_result"
        }
      ],
      "source": [
        "aggregateVectors(purchases_val[-1]).shape"
      ]
    },
    {
      "cell_type": "markdown",
      "metadata": {
        "id": "khNKY9GNcSvO"
      },
      "source": [
        "Well, the function has returned an array of 100 dimensions. It means the function is working fine. Now we can use this result to get the most similar products. Let's do it."
      ]
    },
    {
      "cell_type": "code",
      "execution_count": null,
      "metadata": {
        "colab": {
          "base_uri": "https://localhost:8080/",
          "height": 202
        },
        "id": "_D0X1iDdcko1",
        "outputId": "61a973ed-104b-4831-e75a-b4604af5e814"
      },
      "outputs": [
        {
          "data": {
            "text/plain": [
              "[('METAL SIGN TAKE IT OR LEAVE IT', 0.9587694406509399),\n",
              " ('BEWARE OF THE CAT METAL SIGN', 0.9575548768043518),\n",
              " ('CHOCOLATE THIS WAY METAL SIGN', 0.952998161315918),\n",
              " ('AREA PATROLLED METAL SIGN', 0.9523403644561768),\n",
              " ('OPEN CLOSED METAL SIGN', 0.9495117664337158),\n",
              " ('HOT BATHS METAL SIGN', 0.9472224712371826),\n",
              " ('N0 SINGING METAL SIGN', 0.9446829557418823),\n",
              " (\"YOU'RE CONFUSING ME METAL SIGN\", 0.9446626901626587),\n",
              " ('METAL SIGN NEIGHBOURHOOD WITCH', 0.9415547251701355),\n",
              " (\"I'M ON HOLIDAY METAL SIGN\", 0.9393553137779236)]"
            ]
          },
          "execution_count": 100,
          "metadata": {
            "tags": []
          },
          "output_type": "execute_result"
        }
      ],
      "source": [
        "similarProductsByVector(aggregateVectors(purchases_val[-1]))"
      ]
    },
    {
      "cell_type": "markdown",
      "metadata": {
        "id": "yck42SHaqJS2"
      },
      "source": [
        "As it turns out, our system has recommended products based on the entire purchase history of a user. Feel free to play the code, try to get product recommendation for more sequences from the validation set."
      ]
    },
    {
      "cell_type": "markdown",
      "metadata": {},
      "source": [
        "# Test Your Understanding!\n",
        "\n",
        "In this section, we will build a system to recommend similar products based on online transaction history which provided in `Online Retail.xlsx`. This dataset contains 541909 transactions and 8 columns as follow:\n",
        "\n",
        "* `InvoiceNo`: Invoice number. a unique number assigned to each transaction\n",
        "* `StockCode`: Product/item code. a unique number assigned to each distinct product\n",
        "* `Description`: Product name\n",
        "* `Quantity`: The quantities of each product per transaction\n",
        "* `InvoiceDate`: Invoice Date and time. The day and time when each transaction was generated\n",
        "* `UnitPrice`: Price of each unit product\n",
        "* `CustomerID`: Customer number. a unique number assigned to each customer\n",
        "* `Country`: The country where each transaction was generated\n",
        "\n",
        "After loading the dataset, make sure you have performed the following preprocessing step:\n",
        "\n",
        "* Drop all the rows with missing value\n",
        "* Convert each columns to its proper data type\n",
        "* Remove leading and trailing whitespace on column `Description`\n",
        "* Prepare a `code_to_name` and/or `name_to_code` dictionary mapping, assuming the product name used is the latest name by date\n",
        "\n",
        "In order to get the same result, pre-trained model `recommender.model` is provided to you inside the folder `models`. The model has a vocabulary of 3196 unique products and size of the word vector is 100 dimensions. The parameters used to train the model are as follow:\n",
        "\n",
        "* size = 100\n",
        "* window = 10\n",
        "* min_count = 5\n",
        "* sg = 1\n",
        "* hs = 0\n",
        "* negative = 15\n",
        "* alpha = 0.005\n",
        "* seed = 123\n",
        "* workers = 1\n",
        "* epochs = 10\n",
        "\n",
        "Please make sure to include the `Callback` class before loading the pre-trained model:\n",
        "\n",
        "```\n",
        "from gensim.models.callbacks import CallbackAny2Vec\n",
        "\n",
        "class Callback(CallbackAny2Vec):\n",
        "    def __init__(self):\n",
        "        self.epoch = 1\n",
        "\n",
        "    def on_epoch_end(self, model):\n",
        "        loss = model.get_latest_training_loss()\n",
        "        if self.epoch == 1:\n",
        "            print('Loss after epoch {}: {}'.format(self.epoch, loss))\n",
        "        else:\n",
        "            print('Loss after epoch {}: {}'.format(self.epoch, loss - self.loss_previous_step))\n",
        "        self.epoch += 1\n",
        "        self.loss_previous_step = loss\n",
        "```\n",
        "\n",
        "1. Let's say we build a recommender system so that items that have at least a similarity score of **0.90** with previous transactions will appear on the \"Product Recommendation\" section of a website. Suppose there is a customer who only purchased one item, namely **\"BLUE PAISLEY TISSUE BOX\"**. How many **new products** will appear on their \"Product Recommendation\" section?\n",
        "  - a. 9\n",
        "  - b. 10\n",
        "  - c. 11\n",
        "  - d. 12\n",
        "\n",
        "If we use the system stated on previous question, the number of recommended products will be different for each customer. Suppose we change how our recommender system works. Now, for each customer, we want the model to recommend exactly **10 most similar products** based on entire purchase history of a user. \n",
        "\n",
        "First, you may need to find a list of purchased products for each customer:\n",
        "\n",
        "```\n",
        "purchased_product_for_each_customer = retail.groupby(\"...\")[\"...\"].apply(list)\n",
        "```\n",
        "\n",
        "2. Now, let's analyze customer with CustomerID \"13160\". Is there any product that they have purchased before, but the model recommends again? If yes, what is the product description?\n",
        "  - a. 15CM CHRISTMAS GLASS BALL 20 LIGHTS\n",
        "  - b. BLUE SPOT CERAMIC DRAWER KNOB\n",
        "  - c. DRAWER KNOB CERAMIC IVORY\n",
        "  - d. HEART WREATH DECORATION WITH BELL\n",
        "  - e. None of the top 10 recommended products have been purchased by the CustomerID \"13160\""
      ]
    },
    {
      "cell_type": "markdown",
      "metadata": {},
      "source": [
        "> Note: Comment down below your answers 😊"
      ]
    }
  ],
  "metadata": {
    "colab": {
      "collapsed_sections": [
        "SaQe14xvtt1M",
        "adtwdn4eyzPd",
        "24kISaQc_xzg",
        "rxorh2JJp431",
        "q0SLJg8qX86X"
      ],
      "name": "Non-Textual Data Case Study: Using Word2vec for Online Product Recommender System.ipynb",
      "provenance": [],
      "toc_visible": true
    },
    "kernelspec": {
      "display_name": "Python 3",
      "name": "python3"
    }
  },
  "nbformat": 4,
  "nbformat_minor": 0
}
